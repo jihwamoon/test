{
 "cells": [
  {
   "cell_type": "code",
   "execution_count": 1,
   "metadata": {},
   "outputs": [
    {
     "name": "stdout",
     "output_type": "stream",
     "text": [
      "Collecting selenium\n",
      "  Obtaining dependency information for selenium from https://files.pythonhosted.org/packages/3f/fd/c2e7bb547b5b96c7bd536b4a80c4564b7ce5cd38d10095fbba8648996ab9/selenium-4.18.1-py3-none-any.whl.metadata\n",
      "  Downloading selenium-4.18.1-py3-none-any.whl.metadata (6.9 kB)\n",
      "Requirement already satisfied: urllib3[socks]<3,>=1.26 in c:\\users\\ezen\\appdata\\local\\programs\\python\\python312\\lib\\site-packages (from selenium) (2.2.1)\n",
      "Collecting trio~=0.17 (from selenium)\n",
      "  Obtaining dependency information for trio~=0.17 from https://files.pythonhosted.org/packages/14/fb/9299cf74953f473a15accfdbe2c15218e766bae8c796f2567c83bae03e98/trio-0.24.0-py3-none-any.whl.metadata\n",
      "  Downloading trio-0.24.0-py3-none-any.whl.metadata (4.9 kB)\n",
      "Collecting trio-websocket~=0.9 (from selenium)\n",
      "  Obtaining dependency information for trio-websocket~=0.9 from https://files.pythonhosted.org/packages/48/be/a9ae5f50cad5b6f85bd2574c2c923730098530096e170c1ce7452394d7aa/trio_websocket-0.11.1-py3-none-any.whl.metadata\n",
      "  Downloading trio_websocket-0.11.1-py3-none-any.whl.metadata (4.7 kB)\n",
      "Requirement already satisfied: certifi>=2021.10.8 in c:\\users\\ezen\\appdata\\local\\programs\\python\\python312\\lib\\site-packages (from selenium) (2024.2.2)\n",
      "Collecting typing_extensions>=4.9.0 (from selenium)\n",
      "  Obtaining dependency information for typing_extensions>=4.9.0 from https://files.pythonhosted.org/packages/f9/de/dc04a3ea60b22624b51c703a84bbe0184abcd1d0b9bc8074b5d6b7ab90bb/typing_extensions-4.10.0-py3-none-any.whl.metadata\n",
      "  Downloading typing_extensions-4.10.0-py3-none-any.whl.metadata (3.0 kB)\n",
      "Collecting attrs>=20.1.0 (from trio~=0.17->selenium)\n",
      "  Obtaining dependency information for attrs>=20.1.0 from https://files.pythonhosted.org/packages/e0/44/827b2a91a5816512fcaf3cc4ebc465ccd5d598c45cefa6703fcf4a79018f/attrs-23.2.0-py3-none-any.whl.metadata\n",
      "  Downloading attrs-23.2.0-py3-none-any.whl.metadata (9.5 kB)\n",
      "Collecting sortedcontainers (from trio~=0.17->selenium)\n",
      "  Obtaining dependency information for sortedcontainers from https://files.pythonhosted.org/packages/32/46/9cb0e58b2deb7f82b84065f37f3bffeb12413f947f9388e4cac22c4621ce/sortedcontainers-2.4.0-py2.py3-none-any.whl.metadata\n",
      "  Downloading sortedcontainers-2.4.0-py2.py3-none-any.whl.metadata (10 kB)\n",
      "Requirement already satisfied: idna in c:\\users\\ezen\\appdata\\local\\programs\\python\\python312\\lib\\site-packages (from trio~=0.17->selenium) (3.6)\n",
      "Collecting outcome (from trio~=0.17->selenium)\n",
      "  Obtaining dependency information for outcome from https://files.pythonhosted.org/packages/55/8b/5ab7257531a5d830fc8000c476e63c935488d74609b50f9384a643ec0a62/outcome-1.3.0.post0-py2.py3-none-any.whl.metadata\n",
      "  Downloading outcome-1.3.0.post0-py2.py3-none-any.whl.metadata (2.6 kB)\n",
      "Collecting sniffio>=1.3.0 (from trio~=0.17->selenium)\n",
      "  Obtaining dependency information for sniffio>=1.3.0 from https://files.pythonhosted.org/packages/e9/44/75a9c9421471a6c4805dbf2356f7c181a29c1879239abab1ea2cc8f38b40/sniffio-1.3.1-py3-none-any.whl.metadata\n",
      "  Downloading sniffio-1.3.1-py3-none-any.whl.metadata (3.9 kB)\n",
      "Collecting cffi>=1.14 (from trio~=0.17->selenium)\n",
      "  Obtaining dependency information for cffi>=1.14 from https://files.pythonhosted.org/packages/e9/63/e285470a4880a4f36edabe4810057bd4b562c6ddcc165eacf9c3c7210b40/cffi-1.16.0-cp312-cp312-win_amd64.whl.metadata\n",
      "  Downloading cffi-1.16.0-cp312-cp312-win_amd64.whl.metadata (1.5 kB)\n",
      "Collecting wsproto>=0.14 (from trio-websocket~=0.9->selenium)\n",
      "  Obtaining dependency information for wsproto>=0.14 from https://files.pythonhosted.org/packages/78/58/e860788190eba3bcce367f74d29c4675466ce8dddfba85f7827588416f01/wsproto-1.2.0-py3-none-any.whl.metadata\n",
      "  Downloading wsproto-1.2.0-py3-none-any.whl.metadata (5.6 kB)\n",
      "Collecting pysocks!=1.5.7,<2.0,>=1.5.6 (from urllib3[socks]<3,>=1.26->selenium)\n",
      "  Obtaining dependency information for pysocks!=1.5.7,<2.0,>=1.5.6 from https://files.pythonhosted.org/packages/8d/59/b4572118e098ac8e46e399a1dd0f2d85403ce8bbaad9ec79373ed6badaf9/PySocks-1.7.1-py3-none-any.whl.metadata\n",
      "  Downloading PySocks-1.7.1-py3-none-any.whl.metadata (13 kB)\n",
      "Collecting pycparser (from cffi>=1.14->trio~=0.17->selenium)\n",
      "  Obtaining dependency information for pycparser from https://files.pythonhosted.org/packages/62/d5/5f610ebe421e85889f2e55e33b7f9a6795bd982198517d912eb1c76e1a53/pycparser-2.21-py2.py3-none-any.whl.metadata\n",
      "  Downloading pycparser-2.21-py2.py3-none-any.whl.metadata (1.1 kB)\n",
      "Collecting h11<1,>=0.9.0 (from wsproto>=0.14->trio-websocket~=0.9->selenium)\n",
      "  Obtaining dependency information for h11<1,>=0.9.0 from https://files.pythonhosted.org/packages/95/04/ff642e65ad6b90db43e668d70ffb6736436c7ce41fcc549f4e9472234127/h11-0.14.0-py3-none-any.whl.metadata\n",
      "  Downloading h11-0.14.0-py3-none-any.whl.metadata (8.2 kB)\n",
      "Downloading selenium-4.18.1-py3-none-any.whl (10.0 MB)\n",
      "   ---------------------------------------- 0.0/10.0 MB ? eta -:--:--\n",
      "   ---- ----------------------------------- 1.2/10.0 MB 24.4 MB/s eta 0:00:01\n",
      "   ------------ --------------------------- 3.1/10.0 MB 32.5 MB/s eta 0:00:01\n",
      "   ------------------------ --------------- 6.0/10.0 MB 42.7 MB/s eta 0:00:01\n",
      "   ---------------------------------------  10.0/10.0 MB 58.1 MB/s eta 0:00:01\n",
      "   ---------------------------------------  10.0/10.0 MB 58.1 MB/s eta 0:00:01\n",
      "   ---------------------------------------  10.0/10.0 MB 58.1 MB/s eta 0:00:01\n",
      "   ---------------------------------------  10.0/10.0 MB 58.1 MB/s eta 0:00:01\n",
      "   ---------------------------------------  10.0/10.0 MB 58.1 MB/s eta 0:00:01\n",
      "   ---------------------------------------  10.0/10.0 MB 58.1 MB/s eta 0:00:01\n",
      "   ---------------------------------------- 10.0/10.0 MB 22.8 MB/s eta 0:00:00\n",
      "Downloading trio-0.24.0-py3-none-any.whl (460 kB)\n",
      "   ---------------------------------------- 0.0/460.2 kB ? eta -:--:--\n",
      "   ---------------------------------------  450.6/460.2 kB ? eta -:--:--\n",
      "   ---------------------------------------- 460.2/460.2 kB 9.6 MB/s eta 0:00:00\n",
      "Downloading trio_websocket-0.11.1-py3-none-any.whl (17 kB)\n",
      "Downloading typing_extensions-4.10.0-py3-none-any.whl (33 kB)\n",
      "Downloading attrs-23.2.0-py3-none-any.whl (60 kB)\n",
      "   ---------------------------------------- 0.0/60.8 kB ? eta -:--:--\n",
      "   ---------------------------------------- 60.8/60.8 kB 3.2 MB/s eta 0:00:00\n",
      "Downloading cffi-1.16.0-cp312-cp312-win_amd64.whl (181 kB)\n",
      "   ---------------------------------------- 0.0/182.0 kB ? eta -:--:--\n",
      "   ---------------------------------------- 182.0/182.0 kB 5.5 MB/s eta 0:00:00\n",
      "Downloading PySocks-1.7.1-py3-none-any.whl (16 kB)\n",
      "Downloading sniffio-1.3.1-py3-none-any.whl (10 kB)\n",
      "Downloading wsproto-1.2.0-py3-none-any.whl (24 kB)\n",
      "Downloading outcome-1.3.0.post0-py2.py3-none-any.whl (10 kB)\n",
      "Downloading sortedcontainers-2.4.0-py2.py3-none-any.whl (29 kB)\n",
      "Downloading h11-0.14.0-py3-none-any.whl (58 kB)\n",
      "   ---------------------------------------- 0.0/58.3 kB ? eta -:--:--\n",
      "   ---------------------------------------- 58.3/58.3 kB 1.5 MB/s eta 0:00:00\n",
      "Downloading pycparser-2.21-py2.py3-none-any.whl (118 kB)\n",
      "   ---------------------------------------- 0.0/118.7 kB ? eta -:--:--\n",
      "   ---------------------------------------- 118.7/118.7 kB 3.5 MB/s eta 0:00:00\n",
      "Installing collected packages: sortedcontainers, typing_extensions, sniffio, pysocks, pycparser, h11, attrs, wsproto, outcome, cffi, trio, trio-websocket, selenium\n",
      "Successfully installed attrs-23.2.0 cffi-1.16.0 h11-0.14.0 outcome-1.3.0.post0 pycparser-2.21 pysocks-1.7.1 selenium-4.18.1 sniffio-1.3.1 sortedcontainers-2.4.0 trio-0.24.0 trio-websocket-0.11.1 typing_extensions-4.10.0 wsproto-1.2.0\n"
     ]
    },
    {
     "name": "stderr",
     "output_type": "stream",
     "text": [
      "\n",
      "[notice] A new release of pip is available: 23.2.1 -> 24.0\n",
      "[notice] To update, run: python.exe -m pip install --upgrade pip\n"
     ]
    }
   ],
   "source": [
    "!pip install selenium\n"
   ]
  },
  {
   "cell_type": "code",
   "execution_count": 2,
   "metadata": {},
   "outputs": [],
   "source": [
    "from selenium import webdriver"
   ]
  },
  {
   "cell_type": "code",
   "execution_count": 3,
   "metadata": {},
   "outputs": [],
   "source": [
    "driver = webdriver.Chrome()"
   ]
  },
  {
   "cell_type": "code",
   "execution_count": 4,
   "metadata": {},
   "outputs": [],
   "source": [
    "driver.get('https://www.naver.com')"
   ]
  },
  {
   "cell_type": "code",
   "execution_count": 5,
   "metadata": {},
   "outputs": [],
   "source": [
    "from selenium.webdriver.common.by import By\n",
    "from selenium.webdriver.common.keys import Keys"
   ]
  },
  {
   "cell_type": "markdown",
   "metadata": {},
   "source": [
    "- find_element()\n",
    "    - 조건에 맞는 첫번째 태그를 선택 \n",
    "    - bs4에 있는 find() 흡사 \n",
    "- find_elements()\n",
    "    - 조건에 맞는 모든 태그를 선택 \n",
    "    - bs4에 있는 find_all() 흡사 \n",
    "    "
   ]
  },
  {
   "cell_type": "code",
   "execution_count": 10,
   "metadata": {},
   "outputs": [],
   "source": [
    "# 브라우저에서 F12 선택후 해당 태그선택 후 마우스 우클릭 선택 후 copy + xpath \n",
    "\n",
    "shortcut_list = driver.find_element(By.XPATH,'//*[@id=\"shortcutArea\"]/ul/li[6]/a')"
   ]
  },
  {
   "cell_type": "code",
   "execution_count": 11,
   "metadata": {},
   "outputs": [],
   "source": [
    "shortcut_list.click()"
   ]
  },
  {
   "cell_type": "code",
   "execution_count": 12,
   "metadata": {},
   "outputs": [],
   "source": [
    "from bs4 import BeautifulSoup as bs "
   ]
  },
  {
   "cell_type": "code",
   "execution_count": 14,
   "metadata": {},
   "outputs": [],
   "source": [
    "soup = bs(driver.page_source,'html.parser')"
   ]
  },
  {
   "cell_type": "code",
   "execution_count": 15,
   "metadata": {},
   "outputs": [
    {
     "data": {
      "text/plain": [
       "<title>NAVER</title>"
      ]
     },
     "execution_count": 15,
     "metadata": {},
     "output_type": "execute_result"
    }
   ],
   "source": [
    "soup.find('title')"
   ]
  },
  {
   "cell_type": "code",
   "execution_count": 16,
   "metadata": {},
   "outputs": [
    {
     "data": {
      "text/plain": [
       "['96F12A7F01FC148703ED1ABC3B45028E',\n",
       " 'E14FF745CF98BEFFA8C5C2922B70336D',\n",
       " 'CA4512767E6EDEBB0B4994BE63FFB36B']"
      ]
     },
     "execution_count": 16,
     "metadata": {},
     "output_type": "execute_result"
    }
   ],
   "source": [
    "# 웹 브라우저의 탭의 정보를 출력 \n",
    "driver.window_handles"
   ]
  },
  {
   "cell_type": "code",
   "execution_count": 17,
   "metadata": {},
   "outputs": [],
   "source": [
    "# 탭을 이동 \n",
    "driver.switch_to.window(driver.window_handles[1])"
   ]
  },
  {
   "cell_type": "code",
   "execution_count": 18,
   "metadata": {},
   "outputs": [],
   "source": [
    "soup2 = bs(driver.page_source,'html.parser')"
   ]
  },
  {
   "cell_type": "code",
   "execution_count": 19,
   "metadata": {},
   "outputs": [
    {
     "data": {
      "text/plain": [
       "<title>네이버페이 증권</title>"
      ]
     },
     "execution_count": 19,
     "metadata": {},
     "output_type": "execute_result"
    }
   ],
   "source": [
    "soup2.find('title')"
   ]
  },
  {
   "cell_type": "code",
   "execution_count": 20,
   "metadata": {},
   "outputs": [
    {
     "data": {
      "text/plain": [
       "1"
      ]
     },
     "execution_count": 20,
     "metadata": {},
     "output_type": "execute_result"
    }
   ],
   "source": [
    "div_data = soup2.find_all(\n",
    "    \"div\", \n",
    "    attrs = {\n",
    "        'class': 'section_sise_top'\n",
    "    }\n",
    "    )\n",
    "\n",
    "len(div_data)"
   ]
  },
  {
   "cell_type": "code",
   "execution_count": 21,
   "metadata": {},
   "outputs": [],
   "source": [
    "div_data = soup2.find(\n",
    "    'div',\n",
    "    attrs = {\n",
    "        'class' : 'section_sise_top'\n",
    "    }\n",
    ")"
   ]
  },
  {
   "cell_type": "code",
   "execution_count": 22,
   "metadata": {},
   "outputs": [
    {
     "data": {
      "text/plain": [
       "4"
      ]
     },
     "execution_count": 22,
     "metadata": {},
     "output_type": "execute_result"
    }
   ],
   "source": [
    "tables = div_data.find_all(\n",
    "    'table', \n",
    "    attrs = {\n",
    "        'class' : 'tbl_home'\n",
    "    }\n",
    ")\n",
    "\n",
    "len(tables)"
   ]
  },
  {
   "cell_type": "code",
   "execution_count": 23,
   "metadata": {},
   "outputs": [],
   "source": [
    "table_1 = tables[0]"
   ]
  },
  {
   "cell_type": "code",
   "execution_count": 24,
   "metadata": {},
   "outputs": [
    {
     "data": {
      "text/plain": [
       "<table class=\"tbl_home\">\n",
       "<caption>거래상위 TOP 종목<span>종목명에 대한 현재가, 전일대비, 등락률로 구분되어 있습니다.</span></caption>\n",
       "<colgroup>\n",
       "<col width=\"40%\"/>\n",
       "<col/>\n",
       "</colgroup>\n",
       "<thead>\n",
       "<tr>\n",
       "<th scope=\"col\">종목명</th>\n",
       "<th scope=\"col\">현재가</th>\n",
       "<th scope=\"col\">전일대비</th>\n",
       "<th scope=\"col\">등락률</th>\n",
       "</tr>\n",
       "</thead>\n",
       "<tbody id=\"_topItems1\">\n",
       "<tr class=\"up\"><th><a href=\"/item/main.naver?code=468760\" onclick='clickcr(this, \"spe.slist\", \"468760\", \"1\", event);'>유진스팩10호</a></th><td>2,230</td><td><em class=\"bu_p bu_pup\"><span class=\"blind\">상승</span></em> 230</td><td>+11.50%</td></tr>\n",
       "<tr class=\"up\"><th><a href=\"/item/main.naver?code=252670\" onclick='clickcr(this, \"spe.slist\", \"252670\", \"2\", event);'>KODEX 200선물인버스2X</a></th><td>2,235</td><td><em class=\"bu_p bu_pup\"><span class=\"blind\">상승</span></em> 20</td><td>+0.90%</td></tr>\n",
       "<tr class=\"up\"><th><a href=\"/item/main.naver?code=473050\" onclick='clickcr(this, \"spe.slist\", \"473050\", \"3\", event);'>유안타제15호스팩</a></th><td>2,015</td><td><em class=\"bu_p bu_pup\"><span class=\"blind\">상승</span></em> 15</td><td>+0.75%</td></tr>\n",
       "<tr class=\"up\"><th><a href=\"/item/main.naver?code=016790\" onclick='clickcr(this, \"spe.slist\", \"016790\", \"4\", event);'>카나리아바이오</a></th><td>994</td><td><em class=\"bu_p bu_pup\"><span class=\"blind\">상승</span></em> 78</td><td>+8.52%</td></tr>\n",
       "<tr class=\"up\"><th><a href=\"/item/main.naver?code=258830\" onclick='clickcr(this, \"spe.slist\", \"258830\", \"5\", event);'>세종메디칼</a></th><td>555</td><td><em class=\"bu_p bu_pup\"><span class=\"blind\">상승</span></em> 68</td><td>+13.96%</td></tr>\n",
       "<tr class=\"up\"><th><a href=\"/item/main.naver?code=012170\" onclick='clickcr(this, \"spe.slist\", \"012170\", \"6\", event);'>아센디오</a></th><td>1,205</td><td><em class=\"bu_p bu_pup\"><span class=\"blind\">상승</span></em> 5</td><td>+0.42%</td></tr>\n",
       "<tr class=\"up\"><th><a href=\"/item/main.naver?code=041190\" onclick='clickcr(this, \"spe.slist\", \"041190\", \"7\", event);'>우리기술투자</a></th><td>9,880</td><td><em class=\"bu_p bu_pup\"><span class=\"blind\">상승</span></em> 1,020</td><td>+11.51%</td></tr>\n",
       "<tr class=\"up\"><th><a href=\"/item/main.naver?code=074430\" onclick='clickcr(this, \"spe.slist\", \"074430\", \"8\", event);'>아미노로직스</a></th><td>1,645</td><td><em class=\"bu_p bu_pup\"><span class=\"blind\">상승</span></em> 194</td><td>+13.37%</td></tr>\n",
       "<tr class=\"up\"><th><a href=\"/item/main.naver?code=041020\" onclick='clickcr(this, \"spe.slist\", \"041020\", \"9\", event);'>폴라리스오피스</a></th><td>7,940</td><td><em class=\"bu_p bu_pup\"><span class=\"blind\">상승</span></em> 1,420</td><td>+21.78%</td></tr>\n",
       "<tr class=\"down\"><th><a href=\"/item/main.naver?code=251340\" onclick='clickcr(this, \"spe.slist\", \"251340\", \"10\", event);'>KODEX 코스닥150선물인버스</a></th><td>3,530</td><td><em class=\"bu_p bu_pdn\"><span class=\"blind\">하락</span></em> 30</td><td>-0.84%</td></tr>\n",
       "<tr class=\"up\"><th><a href=\"/item/main.naver?code=001250\" onclick='clickcr(this, \"spe.slist\", \"001250\", \"11\", event);'>GS글로벌</a></th><td>2,925</td><td><em class=\"bu_p bu_pup\"><span class=\"blind\">상승</span></em> 395</td><td>+15.61%</td></tr>\n",
       "<tr class=\"up\"><th><a href=\"/item/main.naver?code=256840\" onclick='clickcr(this, \"spe.slist\", \"256840\", \"12\", event);'>한국비엔씨</a></th><td>4,745</td><td><em class=\"bu_p bu_pup\"><span class=\"blind\">상승</span></em> 190</td><td>+4.17%</td></tr>\n",
       "<tr class=\"up\"><th><a href=\"/item/main.naver?code=028670\" onclick='clickcr(this, \"spe.slist\", \"028670\", \"13\", event);'>팬오션</a></th><td>4,865</td><td><em class=\"bu_p bu_pup\"><span class=\"blind\">상승</span></em> 265</td><td>+5.76%</td></tr>\n",
       "<tr class=\"down\"><th><a href=\"/item/main.naver?code=066790\" onclick='clickcr(this, \"spe.slist\", \"066790\", \"14\", event);'>씨씨에스</a></th><td>3,755</td><td><em class=\"bu_p bu_pdn\"><span class=\"blind\">하락</span></em> 450</td><td>-10.70%</td></tr>\n",
       "<tr class=\"up\"><th><a href=\"/item/main.naver?code=003530\" onclick='clickcr(this, \"spe.slist\", \"003530\", \"15\", event);'>한화투자증권</a></th><td>4,450</td><td><em class=\"bu_p bu_pup\"><span class=\"blind\">상승</span></em> 150</td><td>+3.49%</td></tr>\n",
       "</tbody>\n",
       "</table>"
      ]
     },
     "execution_count": 24,
     "metadata": {},
     "output_type": "execute_result"
    }
   ],
   "source": [
    "table_1"
   ]
  },
  {
   "cell_type": "code",
   "execution_count": 26,
   "metadata": {},
   "outputs": [
    {
     "data": {
      "text/plain": [
       "'\\n\\n종목명\\n현재가\\n전일대비\\n등락률\\n\\n'"
      ]
     },
     "execution_count": 26,
     "metadata": {},
     "output_type": "execute_result"
    }
   ],
   "source": [
    "# 테이블에서 컬럼의 이름들을 추출 \n",
    "\n",
    "table_1.find('thead').get_text()"
   ]
  },
  {
   "cell_type": "code",
   "execution_count": 27,
   "metadata": {},
   "outputs": [
    {
     "data": {
      "text/plain": [
       "['종목명', '현재가', '전일대비', '등락률']"
      ]
     },
     "execution_count": 27,
     "metadata": {},
     "output_type": "execute_result"
    }
   ],
   "source": [
    "table_1.find('thead').get_text().split()"
   ]
  },
  {
   "cell_type": "code",
   "execution_count": 28,
   "metadata": {},
   "outputs": [],
   "source": [
    "cols = table_1.find('thead').get_text().split()"
   ]
  },
  {
   "cell_type": "code",
   "execution_count": 29,
   "metadata": {},
   "outputs": [],
   "source": [
    "tbody = table_1.find('tbody')"
   ]
  },
  {
   "cell_type": "code",
   "execution_count": 32,
   "metadata": {},
   "outputs": [
    {
     "data": {
      "text/plain": [
       "[<tr class=\"up\"><th><a href=\"/item/main.naver?code=468760\" onclick='clickcr(this, \"spe.slist\", \"468760\", \"1\", event);'>유진스팩10호</a></th><td>2,230</td><td><em class=\"bu_p bu_pup\"><span class=\"blind\">상승</span></em> 230</td><td>+11.50%</td></tr>,\n",
       " <tr class=\"up\"><th><a href=\"/item/main.naver?code=252670\" onclick='clickcr(this, \"spe.slist\", \"252670\", \"2\", event);'>KODEX 200선물인버스2X</a></th><td>2,235</td><td><em class=\"bu_p bu_pup\"><span class=\"blind\">상승</span></em> 20</td><td>+0.90%</td></tr>,\n",
       " <tr class=\"up\"><th><a href=\"/item/main.naver?code=473050\" onclick='clickcr(this, \"spe.slist\", \"473050\", \"3\", event);'>유안타제15호스팩</a></th><td>2,015</td><td><em class=\"bu_p bu_pup\"><span class=\"blind\">상승</span></em> 15</td><td>+0.75%</td></tr>,\n",
       " <tr class=\"up\"><th><a href=\"/item/main.naver?code=016790\" onclick='clickcr(this, \"spe.slist\", \"016790\", \"4\", event);'>카나리아바이오</a></th><td>994</td><td><em class=\"bu_p bu_pup\"><span class=\"blind\">상승</span></em> 78</td><td>+8.52%</td></tr>,\n",
       " <tr class=\"up\"><th><a href=\"/item/main.naver?code=258830\" onclick='clickcr(this, \"spe.slist\", \"258830\", \"5\", event);'>세종메디칼</a></th><td>555</td><td><em class=\"bu_p bu_pup\"><span class=\"blind\">상승</span></em> 68</td><td>+13.96%</td></tr>,\n",
       " <tr class=\"up\"><th><a href=\"/item/main.naver?code=012170\" onclick='clickcr(this, \"spe.slist\", \"012170\", \"6\", event);'>아센디오</a></th><td>1,205</td><td><em class=\"bu_p bu_pup\"><span class=\"blind\">상승</span></em> 5</td><td>+0.42%</td></tr>,\n",
       " <tr class=\"up\"><th><a href=\"/item/main.naver?code=041190\" onclick='clickcr(this, \"spe.slist\", \"041190\", \"7\", event);'>우리기술투자</a></th><td>9,880</td><td><em class=\"bu_p bu_pup\"><span class=\"blind\">상승</span></em> 1,020</td><td>+11.51%</td></tr>,\n",
       " <tr class=\"up\"><th><a href=\"/item/main.naver?code=074430\" onclick='clickcr(this, \"spe.slist\", \"074430\", \"8\", event);'>아미노로직스</a></th><td>1,645</td><td><em class=\"bu_p bu_pup\"><span class=\"blind\">상승</span></em> 194</td><td>+13.37%</td></tr>,\n",
       " <tr class=\"up\"><th><a href=\"/item/main.naver?code=041020\" onclick='clickcr(this, \"spe.slist\", \"041020\", \"9\", event);'>폴라리스오피스</a></th><td>7,940</td><td><em class=\"bu_p bu_pup\"><span class=\"blind\">상승</span></em> 1,420</td><td>+21.78%</td></tr>,\n",
       " <tr class=\"down\"><th><a href=\"/item/main.naver?code=251340\" onclick='clickcr(this, \"spe.slist\", \"251340\", \"10\", event);'>KODEX 코스닥150선물인버스</a></th><td>3,530</td><td><em class=\"bu_p bu_pdn\"><span class=\"blind\">하락</span></em> 30</td><td>-0.84%</td></tr>,\n",
       " <tr class=\"up\"><th><a href=\"/item/main.naver?code=001250\" onclick='clickcr(this, \"spe.slist\", \"001250\", \"11\", event);'>GS글로벌</a></th><td>2,925</td><td><em class=\"bu_p bu_pup\"><span class=\"blind\">상승</span></em> 395</td><td>+15.61%</td></tr>,\n",
       " <tr class=\"up\"><th><a href=\"/item/main.naver?code=256840\" onclick='clickcr(this, \"spe.slist\", \"256840\", \"12\", event);'>한국비엔씨</a></th><td>4,745</td><td><em class=\"bu_p bu_pup\"><span class=\"blind\">상승</span></em> 190</td><td>+4.17%</td></tr>,\n",
       " <tr class=\"up\"><th><a href=\"/item/main.naver?code=028670\" onclick='clickcr(this, \"spe.slist\", \"028670\", \"13\", event);'>팬오션</a></th><td>4,865</td><td><em class=\"bu_p bu_pup\"><span class=\"blind\">상승</span></em> 265</td><td>+5.76%</td></tr>,\n",
       " <tr class=\"down\"><th><a href=\"/item/main.naver?code=066790\" onclick='clickcr(this, \"spe.slist\", \"066790\", \"14\", event);'>씨씨에스</a></th><td>3,755</td><td><em class=\"bu_p bu_pdn\"><span class=\"blind\">하락</span></em> 450</td><td>-10.70%</td></tr>,\n",
       " <tr class=\"up\"><th><a href=\"/item/main.naver?code=003530\" onclick='clickcr(this, \"spe.slist\", \"003530\", \"15\", event);'>한화투자증권</a></th><td>4,450</td><td><em class=\"bu_p bu_pup\"><span class=\"blind\">상승</span></em> 150</td><td>+3.49%</td></tr>]"
      ]
     },
     "execution_count": 32,
     "metadata": {},
     "output_type": "execute_result"
    }
   ],
   "source": [
    "# tbody에 있는 모든 tr 태그를 찾는다. \n",
    "tr_list = tbody.find_all('tr')\n",
    "tr_list"
   ]
  },
  {
   "cell_type": "code",
   "execution_count": 33,
   "metadata": {},
   "outputs": [
    {
     "data": {
      "text/plain": [
       "<tr class=\"up\"><th><a href=\"/item/main.naver?code=468760\" onclick='clickcr(this, \"spe.slist\", \"468760\", \"1\", event);'>유진스팩10호</a></th><td>2,230</td><td><em class=\"bu_p bu_pup\"><span class=\"blind\">상승</span></em> 230</td><td>+11.50%</td></tr>"
      ]
     },
     "execution_count": 33,
     "metadata": {},
     "output_type": "execute_result"
    }
   ],
   "source": [
    "tr_1 = tr_list[0]\n",
    "tr_1"
   ]
  },
  {
   "cell_type": "code",
   "execution_count": 37,
   "metadata": {},
   "outputs": [
    {
     "data": {
      "text/plain": [
       "['유진스팩10호']"
      ]
     },
     "execution_count": 37,
     "metadata": {},
     "output_type": "execute_result"
    }
   ],
   "source": [
    "# tr_1에서 th태그를 추출 \n",
    "data_list = [tr_1.find('th').get_text()]\n",
    "data_list"
   ]
  },
  {
   "cell_type": "code",
   "execution_count": 38,
   "metadata": {},
   "outputs": [
    {
     "data": {
      "text/plain": [
       "[<td>2,230</td>,\n",
       " <td><em class=\"bu_p bu_pup\"><span class=\"blind\">상승</span></em> 230</td>,\n",
       " <td>+11.50%</td>]"
      ]
     },
     "execution_count": 38,
     "metadata": {},
     "output_type": "execute_result"
    }
   ],
   "source": [
    "# tr_1에서 td태그를 모두 출력 \n",
    "td_list = tr_1.find_all('td')\n",
    "td_list"
   ]
  },
  {
   "cell_type": "code",
   "execution_count": 39,
   "metadata": {},
   "outputs": [
    {
     "data": {
      "text/plain": [
       "['유진스팩10호', '2,230', '상승 230', '+11.50%']"
      ]
     },
     "execution_count": 39,
     "metadata": {},
     "output_type": "execute_result"
    }
   ],
   "source": [
    "for td in td_list : \n",
    "    #print(td.get_text())\n",
    "    data_list.append(td.get_text())\n",
    "\n",
    "data_list"
   ]
  },
  {
   "cell_type": "code",
   "execution_count": 41,
   "metadata": {},
   "outputs": [
    {
     "data": {
      "text/plain": [
       "[['유진스팩10호', '2,230', '상승 230', '+11.50%'],\n",
       " ['유진스팩10호', '2,230', '상승 230', '+11.50%'],\n",
       " ['유진스팩10호', '2,230', '상승 230', '+11.50%'],\n",
       " ['KODEX 200선물인버스2X', '2,235', '상승 20', '+0.90%'],\n",
       " ['KODEX 200선물인버스2X', '2,235', '상승 20', '+0.90%'],\n",
       " ['KODEX 200선물인버스2X', '2,235', '상승 20', '+0.90%'],\n",
       " ['유안타제15호스팩', '2,015', '상승 15', '+0.75%'],\n",
       " ['유안타제15호스팩', '2,015', '상승 15', '+0.75%'],\n",
       " ['유안타제15호스팩', '2,015', '상승 15', '+0.75%'],\n",
       " ['카나리아바이오', '994', '상승 78', '+8.52%'],\n",
       " ['카나리아바이오', '994', '상승 78', '+8.52%'],\n",
       " ['카나리아바이오', '994', '상승 78', '+8.52%'],\n",
       " ['세종메디칼', '555', '상승 68', '+13.96%'],\n",
       " ['세종메디칼', '555', '상승 68', '+13.96%'],\n",
       " ['세종메디칼', '555', '상승 68', '+13.96%'],\n",
       " ['아센디오', '1,205', '상승 5', '+0.42%'],\n",
       " ['아센디오', '1,205', '상승 5', '+0.42%'],\n",
       " ['아센디오', '1,205', '상승 5', '+0.42%'],\n",
       " ['우리기술투자', '9,880', '상승 1,020', '+11.51%'],\n",
       " ['우리기술투자', '9,880', '상승 1,020', '+11.51%'],\n",
       " ['우리기술투자', '9,880', '상승 1,020', '+11.51%'],\n",
       " ['아미노로직스', '1,645', '상승 194', '+13.37%'],\n",
       " ['아미노로직스', '1,645', '상승 194', '+13.37%'],\n",
       " ['아미노로직스', '1,645', '상승 194', '+13.37%'],\n",
       " ['폴라리스오피스', '7,940', '상승 1,420', '+21.78%'],\n",
       " ['폴라리스오피스', '7,940', '상승 1,420', '+21.78%'],\n",
       " ['폴라리스오피스', '7,940', '상승 1,420', '+21.78%'],\n",
       " ['KODEX 코스닥150선물인버스', '3,530', '하락 30', '-0.84%'],\n",
       " ['KODEX 코스닥150선물인버스', '3,530', '하락 30', '-0.84%'],\n",
       " ['KODEX 코스닥150선물인버스', '3,530', '하락 30', '-0.84%'],\n",
       " ['GS글로벌', '2,925', '상승 395', '+15.61%'],\n",
       " ['GS글로벌', '2,925', '상승 395', '+15.61%'],\n",
       " ['GS글로벌', '2,925', '상승 395', '+15.61%'],\n",
       " ['한국비엔씨', '4,745', '상승 190', '+4.17%'],\n",
       " ['한국비엔씨', '4,745', '상승 190', '+4.17%'],\n",
       " ['한국비엔씨', '4,745', '상승 190', '+4.17%'],\n",
       " ['팬오션', '4,865', '상승 265', '+5.76%'],\n",
       " ['팬오션', '4,865', '상승 265', '+5.76%'],\n",
       " ['팬오션', '4,865', '상승 265', '+5.76%'],\n",
       " ['씨씨에스', '3,755', '하락 450', '-10.70%'],\n",
       " ['씨씨에스', '3,755', '하락 450', '-10.70%'],\n",
       " ['씨씨에스', '3,755', '하락 450', '-10.70%'],\n",
       " ['한화투자증권', '4,450', '상승 150', '+3.49%'],\n",
       " ['한화투자증권', '4,450', '상승 150', '+3.49%'],\n",
       " ['한화투자증권', '4,450', '상승 150', '+3.49%']]"
      ]
     },
     "execution_count": 41,
     "metadata": {},
     "output_type": "execute_result"
    }
   ],
   "source": [
    "values = [] \n",
    "for tr in tr_list : \n",
    "    # 종목명을 추출 \n",
    "    data_list = [tr.find('th').get_text()]\n",
    "    # 현재가, 전일대비, 등략률 3개의 데이터를 추출하여 data_list 추가 \n",
    "    td_list = tr.find_all('td')\n",
    "    for td in td_list : \n",
    "        data_list.append(td.get_text().strip())\n",
    "        values.append(data_list)\n",
    "\n",
    "values"
   ]
  },
  {
   "cell_type": "code",
   "execution_count": 42,
   "metadata": {},
   "outputs": [
    {
     "name": "stderr",
     "output_type": "stream",
     "text": [
      "C:\\Users\\EZEN\\AppData\\Local\\Temp\\ipykernel_1080\\217833862.py:1: DeprecationWarning: \n",
      "Pyarrow will become a required dependency of pandas in the next major release of pandas (pandas 3.0),\n",
      "(to allow more performant data types, such as the Arrow string type, and better interoperability with other libraries)\n",
      "but was not found to be installed on your system.\n",
      "If this would cause problems for you,\n",
      "please provide us feedback at https://github.com/pandas-dev/pandas/issues/54466\n",
      "        \n",
      "  import pandas as pd\n"
     ]
    }
   ],
   "source": [
    "import pandas as pd "
   ]
  },
  {
   "cell_type": "code",
   "execution_count": 43,
   "metadata": {},
   "outputs": [
    {
     "data": {
      "text/html": [
       "<div>\n",
       "<style scoped>\n",
       "    .dataframe tbody tr th:only-of-type {\n",
       "        vertical-align: middle;\n",
       "    }\n",
       "\n",
       "    .dataframe tbody tr th {\n",
       "        vertical-align: top;\n",
       "    }\n",
       "\n",
       "    .dataframe thead th {\n",
       "        text-align: right;\n",
       "    }\n",
       "</style>\n",
       "<table border=\"1\" class=\"dataframe\">\n",
       "  <thead>\n",
       "    <tr style=\"text-align: right;\">\n",
       "      <th></th>\n",
       "      <th>종목명</th>\n",
       "      <th>현재가</th>\n",
       "      <th>전일대비</th>\n",
       "      <th>등락률</th>\n",
       "    </tr>\n",
       "  </thead>\n",
       "  <tbody>\n",
       "    <tr>\n",
       "      <th>0</th>\n",
       "      <td>유진스팩10호</td>\n",
       "      <td>2,230</td>\n",
       "      <td>상승 230</td>\n",
       "      <td>+11.50%</td>\n",
       "    </tr>\n",
       "    <tr>\n",
       "      <th>1</th>\n",
       "      <td>유진스팩10호</td>\n",
       "      <td>2,230</td>\n",
       "      <td>상승 230</td>\n",
       "      <td>+11.50%</td>\n",
       "    </tr>\n",
       "    <tr>\n",
       "      <th>2</th>\n",
       "      <td>유진스팩10호</td>\n",
       "      <td>2,230</td>\n",
       "      <td>상승 230</td>\n",
       "      <td>+11.50%</td>\n",
       "    </tr>\n",
       "    <tr>\n",
       "      <th>3</th>\n",
       "      <td>KODEX 200선물인버스2X</td>\n",
       "      <td>2,235</td>\n",
       "      <td>상승 20</td>\n",
       "      <td>+0.90%</td>\n",
       "    </tr>\n",
       "    <tr>\n",
       "      <th>4</th>\n",
       "      <td>KODEX 200선물인버스2X</td>\n",
       "      <td>2,235</td>\n",
       "      <td>상승 20</td>\n",
       "      <td>+0.90%</td>\n",
       "    </tr>\n",
       "    <tr>\n",
       "      <th>5</th>\n",
       "      <td>KODEX 200선물인버스2X</td>\n",
       "      <td>2,235</td>\n",
       "      <td>상승 20</td>\n",
       "      <td>+0.90%</td>\n",
       "    </tr>\n",
       "    <tr>\n",
       "      <th>6</th>\n",
       "      <td>유안타제15호스팩</td>\n",
       "      <td>2,015</td>\n",
       "      <td>상승 15</td>\n",
       "      <td>+0.75%</td>\n",
       "    </tr>\n",
       "    <tr>\n",
       "      <th>7</th>\n",
       "      <td>유안타제15호스팩</td>\n",
       "      <td>2,015</td>\n",
       "      <td>상승 15</td>\n",
       "      <td>+0.75%</td>\n",
       "    </tr>\n",
       "    <tr>\n",
       "      <th>8</th>\n",
       "      <td>유안타제15호스팩</td>\n",
       "      <td>2,015</td>\n",
       "      <td>상승 15</td>\n",
       "      <td>+0.75%</td>\n",
       "    </tr>\n",
       "    <tr>\n",
       "      <th>9</th>\n",
       "      <td>카나리아바이오</td>\n",
       "      <td>994</td>\n",
       "      <td>상승 78</td>\n",
       "      <td>+8.52%</td>\n",
       "    </tr>\n",
       "    <tr>\n",
       "      <th>10</th>\n",
       "      <td>카나리아바이오</td>\n",
       "      <td>994</td>\n",
       "      <td>상승 78</td>\n",
       "      <td>+8.52%</td>\n",
       "    </tr>\n",
       "    <tr>\n",
       "      <th>11</th>\n",
       "      <td>카나리아바이오</td>\n",
       "      <td>994</td>\n",
       "      <td>상승 78</td>\n",
       "      <td>+8.52%</td>\n",
       "    </tr>\n",
       "    <tr>\n",
       "      <th>12</th>\n",
       "      <td>세종메디칼</td>\n",
       "      <td>555</td>\n",
       "      <td>상승 68</td>\n",
       "      <td>+13.96%</td>\n",
       "    </tr>\n",
       "    <tr>\n",
       "      <th>13</th>\n",
       "      <td>세종메디칼</td>\n",
       "      <td>555</td>\n",
       "      <td>상승 68</td>\n",
       "      <td>+13.96%</td>\n",
       "    </tr>\n",
       "    <tr>\n",
       "      <th>14</th>\n",
       "      <td>세종메디칼</td>\n",
       "      <td>555</td>\n",
       "      <td>상승 68</td>\n",
       "      <td>+13.96%</td>\n",
       "    </tr>\n",
       "    <tr>\n",
       "      <th>15</th>\n",
       "      <td>아센디오</td>\n",
       "      <td>1,205</td>\n",
       "      <td>상승 5</td>\n",
       "      <td>+0.42%</td>\n",
       "    </tr>\n",
       "    <tr>\n",
       "      <th>16</th>\n",
       "      <td>아센디오</td>\n",
       "      <td>1,205</td>\n",
       "      <td>상승 5</td>\n",
       "      <td>+0.42%</td>\n",
       "    </tr>\n",
       "    <tr>\n",
       "      <th>17</th>\n",
       "      <td>아센디오</td>\n",
       "      <td>1,205</td>\n",
       "      <td>상승 5</td>\n",
       "      <td>+0.42%</td>\n",
       "    </tr>\n",
       "    <tr>\n",
       "      <th>18</th>\n",
       "      <td>우리기술투자</td>\n",
       "      <td>9,880</td>\n",
       "      <td>상승 1,020</td>\n",
       "      <td>+11.51%</td>\n",
       "    </tr>\n",
       "    <tr>\n",
       "      <th>19</th>\n",
       "      <td>우리기술투자</td>\n",
       "      <td>9,880</td>\n",
       "      <td>상승 1,020</td>\n",
       "      <td>+11.51%</td>\n",
       "    </tr>\n",
       "    <tr>\n",
       "      <th>20</th>\n",
       "      <td>우리기술투자</td>\n",
       "      <td>9,880</td>\n",
       "      <td>상승 1,020</td>\n",
       "      <td>+11.51%</td>\n",
       "    </tr>\n",
       "    <tr>\n",
       "      <th>21</th>\n",
       "      <td>아미노로직스</td>\n",
       "      <td>1,645</td>\n",
       "      <td>상승 194</td>\n",
       "      <td>+13.37%</td>\n",
       "    </tr>\n",
       "    <tr>\n",
       "      <th>22</th>\n",
       "      <td>아미노로직스</td>\n",
       "      <td>1,645</td>\n",
       "      <td>상승 194</td>\n",
       "      <td>+13.37%</td>\n",
       "    </tr>\n",
       "    <tr>\n",
       "      <th>23</th>\n",
       "      <td>아미노로직스</td>\n",
       "      <td>1,645</td>\n",
       "      <td>상승 194</td>\n",
       "      <td>+13.37%</td>\n",
       "    </tr>\n",
       "    <tr>\n",
       "      <th>24</th>\n",
       "      <td>폴라리스오피스</td>\n",
       "      <td>7,940</td>\n",
       "      <td>상승 1,420</td>\n",
       "      <td>+21.78%</td>\n",
       "    </tr>\n",
       "    <tr>\n",
       "      <th>25</th>\n",
       "      <td>폴라리스오피스</td>\n",
       "      <td>7,940</td>\n",
       "      <td>상승 1,420</td>\n",
       "      <td>+21.78%</td>\n",
       "    </tr>\n",
       "    <tr>\n",
       "      <th>26</th>\n",
       "      <td>폴라리스오피스</td>\n",
       "      <td>7,940</td>\n",
       "      <td>상승 1,420</td>\n",
       "      <td>+21.78%</td>\n",
       "    </tr>\n",
       "    <tr>\n",
       "      <th>27</th>\n",
       "      <td>KODEX 코스닥150선물인버스</td>\n",
       "      <td>3,530</td>\n",
       "      <td>하락 30</td>\n",
       "      <td>-0.84%</td>\n",
       "    </tr>\n",
       "    <tr>\n",
       "      <th>28</th>\n",
       "      <td>KODEX 코스닥150선물인버스</td>\n",
       "      <td>3,530</td>\n",
       "      <td>하락 30</td>\n",
       "      <td>-0.84%</td>\n",
       "    </tr>\n",
       "    <tr>\n",
       "      <th>29</th>\n",
       "      <td>KODEX 코스닥150선물인버스</td>\n",
       "      <td>3,530</td>\n",
       "      <td>하락 30</td>\n",
       "      <td>-0.84%</td>\n",
       "    </tr>\n",
       "    <tr>\n",
       "      <th>30</th>\n",
       "      <td>GS글로벌</td>\n",
       "      <td>2,925</td>\n",
       "      <td>상승 395</td>\n",
       "      <td>+15.61%</td>\n",
       "    </tr>\n",
       "    <tr>\n",
       "      <th>31</th>\n",
       "      <td>GS글로벌</td>\n",
       "      <td>2,925</td>\n",
       "      <td>상승 395</td>\n",
       "      <td>+15.61%</td>\n",
       "    </tr>\n",
       "    <tr>\n",
       "      <th>32</th>\n",
       "      <td>GS글로벌</td>\n",
       "      <td>2,925</td>\n",
       "      <td>상승 395</td>\n",
       "      <td>+15.61%</td>\n",
       "    </tr>\n",
       "    <tr>\n",
       "      <th>33</th>\n",
       "      <td>한국비엔씨</td>\n",
       "      <td>4,745</td>\n",
       "      <td>상승 190</td>\n",
       "      <td>+4.17%</td>\n",
       "    </tr>\n",
       "    <tr>\n",
       "      <th>34</th>\n",
       "      <td>한국비엔씨</td>\n",
       "      <td>4,745</td>\n",
       "      <td>상승 190</td>\n",
       "      <td>+4.17%</td>\n",
       "    </tr>\n",
       "    <tr>\n",
       "      <th>35</th>\n",
       "      <td>한국비엔씨</td>\n",
       "      <td>4,745</td>\n",
       "      <td>상승 190</td>\n",
       "      <td>+4.17%</td>\n",
       "    </tr>\n",
       "    <tr>\n",
       "      <th>36</th>\n",
       "      <td>팬오션</td>\n",
       "      <td>4,865</td>\n",
       "      <td>상승 265</td>\n",
       "      <td>+5.76%</td>\n",
       "    </tr>\n",
       "    <tr>\n",
       "      <th>37</th>\n",
       "      <td>팬오션</td>\n",
       "      <td>4,865</td>\n",
       "      <td>상승 265</td>\n",
       "      <td>+5.76%</td>\n",
       "    </tr>\n",
       "    <tr>\n",
       "      <th>38</th>\n",
       "      <td>팬오션</td>\n",
       "      <td>4,865</td>\n",
       "      <td>상승 265</td>\n",
       "      <td>+5.76%</td>\n",
       "    </tr>\n",
       "    <tr>\n",
       "      <th>39</th>\n",
       "      <td>씨씨에스</td>\n",
       "      <td>3,755</td>\n",
       "      <td>하락 450</td>\n",
       "      <td>-10.70%</td>\n",
       "    </tr>\n",
       "    <tr>\n",
       "      <th>40</th>\n",
       "      <td>씨씨에스</td>\n",
       "      <td>3,755</td>\n",
       "      <td>하락 450</td>\n",
       "      <td>-10.70%</td>\n",
       "    </tr>\n",
       "    <tr>\n",
       "      <th>41</th>\n",
       "      <td>씨씨에스</td>\n",
       "      <td>3,755</td>\n",
       "      <td>하락 450</td>\n",
       "      <td>-10.70%</td>\n",
       "    </tr>\n",
       "    <tr>\n",
       "      <th>42</th>\n",
       "      <td>한화투자증권</td>\n",
       "      <td>4,450</td>\n",
       "      <td>상승 150</td>\n",
       "      <td>+3.49%</td>\n",
       "    </tr>\n",
       "    <tr>\n",
       "      <th>43</th>\n",
       "      <td>한화투자증권</td>\n",
       "      <td>4,450</td>\n",
       "      <td>상승 150</td>\n",
       "      <td>+3.49%</td>\n",
       "    </tr>\n",
       "    <tr>\n",
       "      <th>44</th>\n",
       "      <td>한화투자증권</td>\n",
       "      <td>4,450</td>\n",
       "      <td>상승 150</td>\n",
       "      <td>+3.49%</td>\n",
       "    </tr>\n",
       "  </tbody>\n",
       "</table>\n",
       "</div>"
      ],
      "text/plain": [
       "                  종목명    현재가      전일대비      등락률\n",
       "0             유진스팩10호  2,230    상승 230  +11.50%\n",
       "1             유진스팩10호  2,230    상승 230  +11.50%\n",
       "2             유진스팩10호  2,230    상승 230  +11.50%\n",
       "3    KODEX 200선물인버스2X  2,235     상승 20   +0.90%\n",
       "4    KODEX 200선물인버스2X  2,235     상승 20   +0.90%\n",
       "5    KODEX 200선물인버스2X  2,235     상승 20   +0.90%\n",
       "6           유안타제15호스팩  2,015     상승 15   +0.75%\n",
       "7           유안타제15호스팩  2,015     상승 15   +0.75%\n",
       "8           유안타제15호스팩  2,015     상승 15   +0.75%\n",
       "9             카나리아바이오    994     상승 78   +8.52%\n",
       "10            카나리아바이오    994     상승 78   +8.52%\n",
       "11            카나리아바이오    994     상승 78   +8.52%\n",
       "12              세종메디칼    555     상승 68  +13.96%\n",
       "13              세종메디칼    555     상승 68  +13.96%\n",
       "14              세종메디칼    555     상승 68  +13.96%\n",
       "15               아센디오  1,205      상승 5   +0.42%\n",
       "16               아센디오  1,205      상승 5   +0.42%\n",
       "17               아센디오  1,205      상승 5   +0.42%\n",
       "18             우리기술투자  9,880  상승 1,020  +11.51%\n",
       "19             우리기술투자  9,880  상승 1,020  +11.51%\n",
       "20             우리기술투자  9,880  상승 1,020  +11.51%\n",
       "21             아미노로직스  1,645    상승 194  +13.37%\n",
       "22             아미노로직스  1,645    상승 194  +13.37%\n",
       "23             아미노로직스  1,645    상승 194  +13.37%\n",
       "24            폴라리스오피스  7,940  상승 1,420  +21.78%\n",
       "25            폴라리스오피스  7,940  상승 1,420  +21.78%\n",
       "26            폴라리스오피스  7,940  상승 1,420  +21.78%\n",
       "27  KODEX 코스닥150선물인버스  3,530     하락 30   -0.84%\n",
       "28  KODEX 코스닥150선물인버스  3,530     하락 30   -0.84%\n",
       "29  KODEX 코스닥150선물인버스  3,530     하락 30   -0.84%\n",
       "30              GS글로벌  2,925    상승 395  +15.61%\n",
       "31              GS글로벌  2,925    상승 395  +15.61%\n",
       "32              GS글로벌  2,925    상승 395  +15.61%\n",
       "33              한국비엔씨  4,745    상승 190   +4.17%\n",
       "34              한국비엔씨  4,745    상승 190   +4.17%\n",
       "35              한국비엔씨  4,745    상승 190   +4.17%\n",
       "36                팬오션  4,865    상승 265   +5.76%\n",
       "37                팬오션  4,865    상승 265   +5.76%\n",
       "38                팬오션  4,865    상승 265   +5.76%\n",
       "39               씨씨에스  3,755    하락 450  -10.70%\n",
       "40               씨씨에스  3,755    하락 450  -10.70%\n",
       "41               씨씨에스  3,755    하락 450  -10.70%\n",
       "42             한화투자증권  4,450    상승 150   +3.49%\n",
       "43             한화투자증권  4,450    상승 150   +3.49%\n",
       "44             한화투자증권  4,450    상승 150   +3.49%"
      ]
     },
     "execution_count": 43,
     "metadata": {},
     "output_type": "execute_result"
    }
   ],
   "source": [
    "df = pd.DataFrame(values, columns = cols)\n",
    "df"
   ]
  },
  {
   "cell_type": "code",
   "execution_count": 52,
   "metadata": {},
   "outputs": [
    {
     "ename": "IndentationError",
     "evalue": "expected an indented block after 'for' statement on line 14 (2974790953.py, line 16)",
     "output_type": "error",
     "traceback": [
      "\u001b[1;36m  Cell \u001b[1;32mIn[52], line 16\u001b[1;36m\u001b[0m\n\u001b[1;33m    data_list = [tr.find('th').get_text()]\u001b[0m\n\u001b[1;37m    ^\u001b[0m\n\u001b[1;31mIndentationError\u001b[0m\u001b[1;31m:\u001b[0m expected an indented block after 'for' statement on line 14\n"
     ]
    }
   ],
   "source": [
    "# df_list =[]\n",
    "# for table in tables : \n",
    "for i in range(len(tables)) : \n",
    "    print(i)\n",
    "    # 컬럼의 명을 추출 \n",
    "    thead = table.find('thead')\n",
    "    cols = thead.get_text().split()\n",
    "\n",
    "    # 데이터들을 2차원 리스트로 추출 \n",
    "    tbody = table.find('tbody')\n",
    "    tr_list = tbody.find_all('re')\n",
    "    values = [] \n",
    "    for tr in tr_list : \n",
    "        for tr in tr_list : \n",
    "    # 종목명을 추출 \n",
    "    data_list = [tr.find('th').get_text()]\n",
    "    # 현재가, 전일대비, 등략률 3개의 데이터를 추출하여 data_list 추가 \n",
    "    td_list = tr.find_all('td')\n",
    "    for td in td_list : \n",
    "        data_list.append(td.get_text().strip())\n",
    "    values.append(data_list)\n",
    "globals()[f\"df_{i}\"] = pd.DataFrame(values,columns = cols)\n",
    " # df_list.append(for_df)"
   ]
  },
  {
   "cell_type": "code",
   "execution_count": 49,
   "metadata": {},
   "outputs": [],
   "source": [
    "#전역변수들을 확인하는 함수 \n",
    "_name = 'b'\n",
    "globals()['a'] = 'test'"
   ]
  },
  {
   "cell_type": "code",
   "execution_count": 47,
   "metadata": {},
   "outputs": [
    {
     "data": {
      "text/plain": [
       "'test'"
      ]
     },
     "execution_count": 47,
     "metadata": {},
     "output_type": "execute_result"
    }
   ],
   "source": [
    "a"
   ]
  },
  {
   "cell_type": "code",
   "execution_count": 59,
   "metadata": {},
   "outputs": [
    {
     "name": "stdout",
     "output_type": "stream",
     "text": [
      "Collecting lxml\n",
      "  Obtaining dependency information for lxml from https://files.pythonhosted.org/packages/02/59/e1fbe2514d8ab39977b72e77f98d0fa49772f61e938049baf151b307a4f0/lxml-5.1.0-cp312-cp312-win_amd64.whl.metadata\n",
      "  Downloading lxml-5.1.0-cp312-cp312-win_amd64.whl.metadata (3.6 kB)\n",
      "Downloading lxml-5.1.0-cp312-cp312-win_amd64.whl (3.9 MB)\n",
      "   ---------------------------------------- 0.0/3.9 MB ? eta -:--:--\n",
      "   ---------------------------------------- 0.0/3.9 MB ? eta -:--:--\n",
      "   ---------------------------------------- 0.0/3.9 MB 660.6 kB/s eta 0:00:06\n",
      "   -- ------------------------------------- 0.3/3.9 MB 3.2 MB/s eta 0:00:02\n",
      "   ----- ---------------------------------- 0.5/3.9 MB 4.2 MB/s eta 0:00:01\n",
      "   --------- ------------------------------ 1.0/3.9 MB 5.6 MB/s eta 0:00:01\n",
      "   ------------------ --------------------- 1.8/3.9 MB 8.2 MB/s eta 0:00:01\n",
      "   ------------------------------ --------- 3.0/3.9 MB 11.2 MB/s eta 0:00:01\n",
      "   ---------------------------------------- 3.9/3.9 MB 13.1 MB/s eta 0:00:00\n",
      "Installing collected packages: lxml\n"
     ]
    },
    {
     "name": "stderr",
     "output_type": "stream",
     "text": [
      "ERROR: Could not install packages due to an OSError: [Errno 28] No space left on device\n",
      "\n",
      "\n",
      "[notice] A new release of pip is available: 23.2.1 -> 24.0\n",
      "[notice] To update, run: python.exe -m pip install --upgrade pip\n"
     ]
    }
   ],
   "source": [
    "!pip install lxml"
   ]
  },
  {
   "cell_type": "code",
   "execution_count": 69,
   "metadata": {},
   "outputs": [
    {
     "data": {
      "text/plain": [
       "<table class=\"tbl_home\">\n",
       "<caption>상승 TOP 종목<span>종목명에 대한 현재가, 전일대비, 등락률로 구분되어 있습니다.</span></caption>\n",
       "<colgroup>\n",
       "<col width=\"40%\"/>\n",
       "<col/>\n",
       "</colgroup>\n",
       "<thead>\n",
       "<tr>\n",
       "<th scope=\"col\">종목명</th>\n",
       "<th scope=\"col\">현재가</th>\n",
       "<th scope=\"col\">전일대비</th>\n",
       "<th scope=\"col\">등락률</th>\n",
       "</tr>\n",
       "</thead>\n",
       "<tbody id=\"_topItems2\">\n",
       "<tr class=\"up\"><th><a href=\"/item/main.naver?code=443670\" onclick='clickcr(this, \"spe.clist\", \"443670\", \"1\", event);'>에스피소프트</a></th><td>14,610</td><td><em class=\"bu_p bu_pup2\"><span class=\"blind\">상한가</span></em> 3,370</td><td>+29.98%</td></tr>\n",
       "<tr class=\"up\"><th><a href=\"/item/main.naver?code=307930\" onclick='clickcr(this, \"spe.clist\", \"307930\", \"2\", event);'>컴퍼니케이</a></th><td>9,430</td><td><em class=\"bu_p bu_pup2\"><span class=\"blind\">상한가</span></em> 2,170</td><td>+29.89%</td></tr>\n",
       "<tr class=\"up\"><th><a href=\"/item/main.naver?code=330730\" onclick='clickcr(this, \"spe.clist\", \"330730\", \"3\", event);'>스톤브릿지벤처스</a></th><td>5,740</td><td><em class=\"bu_p bu_pup2\"><span class=\"blind\">상한가</span></em> 1,320</td><td>+29.86%</td></tr>\n",
       "<tr class=\"up\"><th><a href=\"/item/main.naver?code=041020\" onclick='clickcr(this, \"spe.clist\", \"041020\", \"4\", event);'>폴라리스오피스</a></th><td>7,940</td><td><em class=\"bu_p bu_pup\"><span class=\"blind\">상승</span></em> 1,420</td><td>+21.78%</td></tr>\n",
       "<tr class=\"up\"><th><a href=\"/item/main.naver?code=199550\" onclick='clickcr(this, \"spe.clist\", \"199550\", \"5\", event);'>레이저옵텍</a></th><td>13,040</td><td><em class=\"bu_p bu_pup\"><span class=\"blind\">상승</span></em> 2,020</td><td>+18.33%</td></tr>\n",
       "<tr class=\"up\"><th><a href=\"/item/main.naver?code=073570\" onclick='clickcr(this, \"spe.clist\", \"073570\", \"6\", event);'>리튬포어스</a></th><td>6,630</td><td><em class=\"bu_p bu_pup\"><span class=\"blind\">상승</span></em> 1,000</td><td>+17.76%</td></tr>\n",
       "<tr class=\"up\"><th><a href=\"/item/main.naver?code=360350\" onclick='clickcr(this, \"spe.clist\", \"360350\", \"7\", event);'>코셈</a></th><td>30,200</td><td><em class=\"bu_p bu_pup\"><span class=\"blind\">상승</span></em> 4,300</td><td>+16.60%</td></tr>\n",
       "<tr class=\"up\"><th><a href=\"/item/main.naver?code=001250\" onclick='clickcr(this, \"spe.clist\", \"001250\", \"8\", event);'>GS글로벌</a></th><td>2,925</td><td><em class=\"bu_p bu_pup\"><span class=\"blind\">상승</span></em> 395</td><td>+15.61%</td></tr>\n",
       "<tr class=\"up\"><th><a href=\"/item/main.naver?code=042520\" onclick='clickcr(this, \"spe.clist\", \"042520\", \"9\", event);'>한스바이오메드</a></th><td>14,380</td><td><em class=\"bu_p bu_pup\"><span class=\"blind\">상승</span></em> 1,940</td><td>+15.59%</td></tr>\n",
       "<tr class=\"up\"><th><a href=\"/item/main.naver?code=015260\" onclick='clickcr(this, \"spe.clist\", \"015260\", \"10\", event);'>에이엔피</a></th><td>1,193</td><td><em class=\"bu_p bu_pup\"><span class=\"blind\">상승</span></em> 151</td><td>+14.49%</td></tr>\n",
       "<tr class=\"up\"><th><a href=\"/item/main.naver?code=145720\" onclick='clickcr(this, \"spe.clist\", \"145720\", \"11\", event);'>덴티움</a></th><td>144,200</td><td><em class=\"bu_p bu_pup\"><span class=\"blind\">상승</span></em> 18,200</td><td>+14.44%</td></tr>\n",
       "<tr class=\"up\"><th><a href=\"/item/main.naver?code=258830\" onclick='clickcr(this, \"spe.clist\", \"258830\", \"12\", event);'>세종메디칼</a></th><td>555</td><td><em class=\"bu_p bu_pup\"><span class=\"blind\">상승</span></em> 68</td><td>+13.96%</td></tr>\n",
       "<tr class=\"up\"><th><a href=\"/item/main.naver?code=240810\" onclick='clickcr(this, \"spe.clist\", \"240810\", \"13\", event);'>원익IPS</a></th><td>32,800</td><td><em class=\"bu_p bu_pup\"><span class=\"blind\">상승</span></em> 3,900</td><td>+13.49%</td></tr>\n",
       "<tr class=\"up\"><th><a href=\"/item/main.naver?code=074430\" onclick='clickcr(this, \"spe.clist\", \"074430\", \"14\", event);'>아미노로직스</a></th><td>1,645</td><td><em class=\"bu_p bu_pup\"><span class=\"blind\">상승</span></em> 194</td><td>+13.37%</td></tr>\n",
       "<tr class=\"up\"><th><a href=\"/item/main.naver?code=001380\" onclick='clickcr(this, \"spe.clist\", \"001380\", \"15\", event);'>SG글로벌</a></th><td>1,644</td><td><em class=\"bu_p bu_pup\"><span class=\"blind\">상승</span></em> 187</td><td>+12.83%</td></tr>\n",
       "</tbody>\n",
       "</table>"
      ]
     },
     "execution_count": 69,
     "metadata": {},
     "output_type": "execute_result"
    }
   ],
   "source": [
    "tables[1]"
   ]
  },
  {
   "cell_type": "code",
   "execution_count": 68,
   "metadata": {},
   "outputs": [
    {
     "name": "stderr",
     "output_type": "stream",
     "text": [
      "C:\\Users\\EZEN\\AppData\\Local\\Temp\\ipykernel_1080\\4075256137.py:3: FutureWarning: Passing literal html to 'read_html' is deprecated and will be removed in a future version. To read from a literal string, wrap it in a 'StringIO' object.\n",
      "  globals()[f\"df__{i}\"] = pd.read_html(table_text)[0]\n"
     ]
    },
    {
     "ename": "ImportError",
     "evalue": "Missing optional dependency 'lxml'.  Use pip or conda to install lxml.",
     "output_type": "error",
     "traceback": [
      "\u001b[1;31m---------------------------------------------------------------------------\u001b[0m",
      "\u001b[1;31mImportError\u001b[0m                               Traceback (most recent call last)",
      "File \u001b[1;32mc:\\Users\\EZEN\\AppData\\Local\\Programs\\Python\\Python312\\Lib\\site-packages\\pandas\\compat\\_optional.py:135\u001b[0m, in \u001b[0;36mimport_optional_dependency\u001b[1;34m(name, extra, errors, min_version)\u001b[0m\n\u001b[0;32m    134\u001b[0m \u001b[38;5;28;01mtry\u001b[39;00m:\n\u001b[1;32m--> 135\u001b[0m     module \u001b[38;5;241m=\u001b[39m \u001b[43mimportlib\u001b[49m\u001b[38;5;241;43m.\u001b[39;49m\u001b[43mimport_module\u001b[49m\u001b[43m(\u001b[49m\u001b[43mname\u001b[49m\u001b[43m)\u001b[49m\n\u001b[0;32m    136\u001b[0m \u001b[38;5;28;01mexcept\u001b[39;00m \u001b[38;5;167;01mImportError\u001b[39;00m:\n",
      "File \u001b[1;32mc:\\Users\\EZEN\\AppData\\Local\\Programs\\Python\\Python312\\Lib\\importlib\\__init__.py:90\u001b[0m, in \u001b[0;36mimport_module\u001b[1;34m(name, package)\u001b[0m\n\u001b[0;32m     89\u001b[0m         level \u001b[38;5;241m+\u001b[39m\u001b[38;5;241m=\u001b[39m \u001b[38;5;241m1\u001b[39m\n\u001b[1;32m---> 90\u001b[0m \u001b[38;5;28;01mreturn\u001b[39;00m \u001b[43m_bootstrap\u001b[49m\u001b[38;5;241;43m.\u001b[39;49m\u001b[43m_gcd_import\u001b[49m\u001b[43m(\u001b[49m\u001b[43mname\u001b[49m\u001b[43m[\u001b[49m\u001b[43mlevel\u001b[49m\u001b[43m:\u001b[49m\u001b[43m]\u001b[49m\u001b[43m,\u001b[49m\u001b[43m \u001b[49m\u001b[43mpackage\u001b[49m\u001b[43m,\u001b[49m\u001b[43m \u001b[49m\u001b[43mlevel\u001b[49m\u001b[43m)\u001b[49m\n",
      "File \u001b[1;32m<frozen importlib._bootstrap>:1387\u001b[0m, in \u001b[0;36m_gcd_import\u001b[1;34m(name, package, level)\u001b[0m\n",
      "File \u001b[1;32m<frozen importlib._bootstrap>:1360\u001b[0m, in \u001b[0;36m_find_and_load\u001b[1;34m(name, import_)\u001b[0m\n",
      "File \u001b[1;32m<frozen importlib._bootstrap>:1331\u001b[0m, in \u001b[0;36m_find_and_load_unlocked\u001b[1;34m(name, import_)\u001b[0m\n",
      "File \u001b[1;32m<frozen importlib._bootstrap>:921\u001b[0m, in \u001b[0;36m_load_unlocked\u001b[1;34m(spec)\u001b[0m\n",
      "File \u001b[1;32m<frozen importlib._bootstrap>:813\u001b[0m, in \u001b[0;36mmodule_from_spec\u001b[1;34m(spec)\u001b[0m\n",
      "File \u001b[1;32m<frozen importlib._bootstrap_external>:1288\u001b[0m, in \u001b[0;36mcreate_module\u001b[1;34m(self, spec)\u001b[0m\n",
      "File \u001b[1;32m<frozen importlib._bootstrap>:488\u001b[0m, in \u001b[0;36m_call_with_frames_removed\u001b[1;34m(f, *args, **kwds)\u001b[0m\n",
      "\u001b[1;31mImportError\u001b[0m: DLL load failed while importing etree: %1은(는) 올바른 Win32 응용 프로그램이 아닙니다.",
      "\nDuring handling of the above exception, another exception occurred:\n",
      "\u001b[1;31mImportError\u001b[0m                               Traceback (most recent call last)",
      "Cell \u001b[1;32mIn[68], line 3\u001b[0m\n\u001b[0;32m      1\u001b[0m \u001b[38;5;28;01mfor\u001b[39;00m i \u001b[38;5;129;01min\u001b[39;00m \u001b[38;5;28mrange\u001b[39m(\u001b[38;5;28mlen\u001b[39m(tables)) : \n\u001b[0;32m      2\u001b[0m     table_text \u001b[38;5;241m=\u001b[39m \u001b[38;5;28mstr\u001b[39m(tables[i])\n\u001b[1;32m----> 3\u001b[0m     \u001b[38;5;28mglobals\u001b[39m()[\u001b[38;5;124mf\u001b[39m\u001b[38;5;124m\"\u001b[39m\u001b[38;5;124mdf__\u001b[39m\u001b[38;5;132;01m{\u001b[39;00mi\u001b[38;5;132;01m}\u001b[39;00m\u001b[38;5;124m\"\u001b[39m] \u001b[38;5;241m=\u001b[39m \u001b[43mpd\u001b[49m\u001b[38;5;241;43m.\u001b[39;49m\u001b[43mread_html\u001b[49m\u001b[43m(\u001b[49m\u001b[43mtable_text\u001b[49m\u001b[43m)\u001b[49m[\u001b[38;5;241m0\u001b[39m]\n",
      "File \u001b[1;32mc:\\Users\\EZEN\\AppData\\Local\\Programs\\Python\\Python312\\Lib\\site-packages\\pandas\\io\\html.py:1246\u001b[0m, in \u001b[0;36mread_html\u001b[1;34m(io, match, flavor, header, index_col, skiprows, attrs, parse_dates, thousands, encoding, decimal, converters, na_values, keep_default_na, displayed_only, extract_links, dtype_backend, storage_options)\u001b[0m\n\u001b[0;32m   1230\u001b[0m \u001b[38;5;28;01mif\u001b[39;00m \u001b[38;5;28misinstance\u001b[39m(io, \u001b[38;5;28mstr\u001b[39m) \u001b[38;5;129;01mand\u001b[39;00m \u001b[38;5;129;01mnot\u001b[39;00m \u001b[38;5;28many\u001b[39m(\n\u001b[0;32m   1231\u001b[0m     [\n\u001b[0;32m   1232\u001b[0m         is_file_like(io),\n\u001b[1;32m   (...)\u001b[0m\n\u001b[0;32m   1236\u001b[0m     ]\n\u001b[0;32m   1237\u001b[0m ):\n\u001b[0;32m   1238\u001b[0m     warnings\u001b[38;5;241m.\u001b[39mwarn(\n\u001b[0;32m   1239\u001b[0m         \u001b[38;5;124m\"\u001b[39m\u001b[38;5;124mPassing literal html to \u001b[39m\u001b[38;5;124m'\u001b[39m\u001b[38;5;124mread_html\u001b[39m\u001b[38;5;124m'\u001b[39m\u001b[38;5;124m is deprecated and \u001b[39m\u001b[38;5;124m\"\u001b[39m\n\u001b[0;32m   1240\u001b[0m         \u001b[38;5;124m\"\u001b[39m\u001b[38;5;124mwill be removed in a future version. To read from a \u001b[39m\u001b[38;5;124m\"\u001b[39m\n\u001b[1;32m   (...)\u001b[0m\n\u001b[0;32m   1243\u001b[0m         stacklevel\u001b[38;5;241m=\u001b[39mfind_stack_level(),\n\u001b[0;32m   1244\u001b[0m     )\n\u001b[1;32m-> 1246\u001b[0m \u001b[38;5;28;01mreturn\u001b[39;00m \u001b[43m_parse\u001b[49m\u001b[43m(\u001b[49m\n\u001b[0;32m   1247\u001b[0m \u001b[43m    \u001b[49m\u001b[43mflavor\u001b[49m\u001b[38;5;241;43m=\u001b[39;49m\u001b[43mflavor\u001b[49m\u001b[43m,\u001b[49m\n\u001b[0;32m   1248\u001b[0m \u001b[43m    \u001b[49m\u001b[43mio\u001b[49m\u001b[38;5;241;43m=\u001b[39;49m\u001b[43mio\u001b[49m\u001b[43m,\u001b[49m\n\u001b[0;32m   1249\u001b[0m \u001b[43m    \u001b[49m\u001b[43mmatch\u001b[49m\u001b[38;5;241;43m=\u001b[39;49m\u001b[43mmatch\u001b[49m\u001b[43m,\u001b[49m\n\u001b[0;32m   1250\u001b[0m \u001b[43m    \u001b[49m\u001b[43mheader\u001b[49m\u001b[38;5;241;43m=\u001b[39;49m\u001b[43mheader\u001b[49m\u001b[43m,\u001b[49m\n\u001b[0;32m   1251\u001b[0m \u001b[43m    \u001b[49m\u001b[43mindex_col\u001b[49m\u001b[38;5;241;43m=\u001b[39;49m\u001b[43mindex_col\u001b[49m\u001b[43m,\u001b[49m\n\u001b[0;32m   1252\u001b[0m \u001b[43m    \u001b[49m\u001b[43mskiprows\u001b[49m\u001b[38;5;241;43m=\u001b[39;49m\u001b[43mskiprows\u001b[49m\u001b[43m,\u001b[49m\n\u001b[0;32m   1253\u001b[0m \u001b[43m    \u001b[49m\u001b[43mparse_dates\u001b[49m\u001b[38;5;241;43m=\u001b[39;49m\u001b[43mparse_dates\u001b[49m\u001b[43m,\u001b[49m\n\u001b[0;32m   1254\u001b[0m \u001b[43m    \u001b[49m\u001b[43mthousands\u001b[49m\u001b[38;5;241;43m=\u001b[39;49m\u001b[43mthousands\u001b[49m\u001b[43m,\u001b[49m\n\u001b[0;32m   1255\u001b[0m \u001b[43m    \u001b[49m\u001b[43mattrs\u001b[49m\u001b[38;5;241;43m=\u001b[39;49m\u001b[43mattrs\u001b[49m\u001b[43m,\u001b[49m\n\u001b[0;32m   1256\u001b[0m \u001b[43m    \u001b[49m\u001b[43mencoding\u001b[49m\u001b[38;5;241;43m=\u001b[39;49m\u001b[43mencoding\u001b[49m\u001b[43m,\u001b[49m\n\u001b[0;32m   1257\u001b[0m \u001b[43m    \u001b[49m\u001b[43mdecimal\u001b[49m\u001b[38;5;241;43m=\u001b[39;49m\u001b[43mdecimal\u001b[49m\u001b[43m,\u001b[49m\n\u001b[0;32m   1258\u001b[0m \u001b[43m    \u001b[49m\u001b[43mconverters\u001b[49m\u001b[38;5;241;43m=\u001b[39;49m\u001b[43mconverters\u001b[49m\u001b[43m,\u001b[49m\n\u001b[0;32m   1259\u001b[0m \u001b[43m    \u001b[49m\u001b[43mna_values\u001b[49m\u001b[38;5;241;43m=\u001b[39;49m\u001b[43mna_values\u001b[49m\u001b[43m,\u001b[49m\n\u001b[0;32m   1260\u001b[0m \u001b[43m    \u001b[49m\u001b[43mkeep_default_na\u001b[49m\u001b[38;5;241;43m=\u001b[39;49m\u001b[43mkeep_default_na\u001b[49m\u001b[43m,\u001b[49m\n\u001b[0;32m   1261\u001b[0m \u001b[43m    \u001b[49m\u001b[43mdisplayed_only\u001b[49m\u001b[38;5;241;43m=\u001b[39;49m\u001b[43mdisplayed_only\u001b[49m\u001b[43m,\u001b[49m\n\u001b[0;32m   1262\u001b[0m \u001b[43m    \u001b[49m\u001b[43mextract_links\u001b[49m\u001b[38;5;241;43m=\u001b[39;49m\u001b[43mextract_links\u001b[49m\u001b[43m,\u001b[49m\n\u001b[0;32m   1263\u001b[0m \u001b[43m    \u001b[49m\u001b[43mdtype_backend\u001b[49m\u001b[38;5;241;43m=\u001b[39;49m\u001b[43mdtype_backend\u001b[49m\u001b[43m,\u001b[49m\n\u001b[0;32m   1264\u001b[0m \u001b[43m    \u001b[49m\u001b[43mstorage_options\u001b[49m\u001b[38;5;241;43m=\u001b[39;49m\u001b[43mstorage_options\u001b[49m\u001b[43m,\u001b[49m\n\u001b[0;32m   1265\u001b[0m \u001b[43m\u001b[49m\u001b[43m)\u001b[49m\n",
      "File \u001b[1;32mc:\\Users\\EZEN\\AppData\\Local\\Programs\\Python\\Python312\\Lib\\site-packages\\pandas\\io\\html.py:977\u001b[0m, in \u001b[0;36m_parse\u001b[1;34m(flavor, io, match, attrs, encoding, displayed_only, extract_links, storage_options, **kwargs)\u001b[0m\n\u001b[0;32m    975\u001b[0m retained \u001b[38;5;241m=\u001b[39m \u001b[38;5;28;01mNone\u001b[39;00m\n\u001b[0;32m    976\u001b[0m \u001b[38;5;28;01mfor\u001b[39;00m flav \u001b[38;5;129;01min\u001b[39;00m flavor:\n\u001b[1;32m--> 977\u001b[0m     parser \u001b[38;5;241m=\u001b[39m \u001b[43m_parser_dispatch\u001b[49m\u001b[43m(\u001b[49m\u001b[43mflav\u001b[49m\u001b[43m)\u001b[49m\n\u001b[0;32m    978\u001b[0m     p \u001b[38;5;241m=\u001b[39m parser(\n\u001b[0;32m    979\u001b[0m         io,\n\u001b[0;32m    980\u001b[0m         compiled_match,\n\u001b[1;32m   (...)\u001b[0m\n\u001b[0;32m    985\u001b[0m         storage_options,\n\u001b[0;32m    986\u001b[0m     )\n\u001b[0;32m    988\u001b[0m     \u001b[38;5;28;01mtry\u001b[39;00m:\n",
      "File \u001b[1;32mc:\\Users\\EZEN\\AppData\\Local\\Programs\\Python\\Python312\\Lib\\site-packages\\pandas\\io\\html.py:924\u001b[0m, in \u001b[0;36m_parser_dispatch\u001b[1;34m(flavor)\u001b[0m\n\u001b[0;32m    922\u001b[0m     import_optional_dependency(\u001b[38;5;124m\"\u001b[39m\u001b[38;5;124mbs4\u001b[39m\u001b[38;5;124m\"\u001b[39m)\n\u001b[0;32m    923\u001b[0m \u001b[38;5;28;01melse\u001b[39;00m:\n\u001b[1;32m--> 924\u001b[0m     \u001b[43mimport_optional_dependency\u001b[49m\u001b[43m(\u001b[49m\u001b[38;5;124;43m\"\u001b[39;49m\u001b[38;5;124;43mlxml.etree\u001b[39;49m\u001b[38;5;124;43m\"\u001b[39;49m\u001b[43m)\u001b[49m\n\u001b[0;32m    925\u001b[0m \u001b[38;5;28;01mreturn\u001b[39;00m _valid_parsers[flavor]\n",
      "File \u001b[1;32mc:\\Users\\EZEN\\AppData\\Local\\Programs\\Python\\Python312\\Lib\\site-packages\\pandas\\compat\\_optional.py:138\u001b[0m, in \u001b[0;36mimport_optional_dependency\u001b[1;34m(name, extra, errors, min_version)\u001b[0m\n\u001b[0;32m    136\u001b[0m \u001b[38;5;28;01mexcept\u001b[39;00m \u001b[38;5;167;01mImportError\u001b[39;00m:\n\u001b[0;32m    137\u001b[0m     \u001b[38;5;28;01mif\u001b[39;00m errors \u001b[38;5;241m==\u001b[39m \u001b[38;5;124m\"\u001b[39m\u001b[38;5;124mraise\u001b[39m\u001b[38;5;124m\"\u001b[39m:\n\u001b[1;32m--> 138\u001b[0m         \u001b[38;5;28;01mraise\u001b[39;00m \u001b[38;5;167;01mImportError\u001b[39;00m(msg)\n\u001b[0;32m    139\u001b[0m     \u001b[38;5;28;01mreturn\u001b[39;00m \u001b[38;5;28;01mNone\u001b[39;00m\n\u001b[0;32m    141\u001b[0m \u001b[38;5;66;03m# Handle submodules: if we have submodule, grab parent module from sys.modules\u001b[39;00m\n",
      "\u001b[1;31mImportError\u001b[0m: Missing optional dependency 'lxml'.  Use pip or conda to install lxml."
     ]
    }
   ],
   "source": [
    "for i in range(len(tables)) : \n",
    "    table_text = str(tables[i])\n",
    "    globals()[f\"df__{i}\"] = pd.read_html(table_text)[0]"
   ]
  },
  {
   "cell_type": "code",
   "execution_count": 56,
   "metadata": {},
   "outputs": [
    {
     "ename": "NameError",
     "evalue": "name 'df__0' is not defined",
     "output_type": "error",
     "traceback": [
      "\u001b[1;31m---------------------------------------------------------------------------\u001b[0m",
      "\u001b[1;31mNameError\u001b[0m                                 Traceback (most recent call last)",
      "Cell \u001b[1;32mIn[56], line 1\u001b[0m\n\u001b[1;32m----> 1\u001b[0m \u001b[43mdf__0\u001b[49m\n",
      "\u001b[1;31mNameError\u001b[0m: name 'df__0' is not defined"
     ]
    }
   ],
   "source": [
    "df__0"
   ]
  },
  {
   "cell_type": "code",
   "execution_count": null,
   "metadata": {},
   "outputs": [],
   "source": []
  }
 ],
 "metadata": {
  "kernelspec": {
   "display_name": "Python 3",
   "language": "python",
   "name": "python3"
  },
  "language_info": {
   "codemirror_mode": {
    "name": "ipython",
    "version": 3
   },
   "file_extension": ".py",
   "mimetype": "text/x-python",
   "name": "python",
   "nbconvert_exporter": "python",
   "pygments_lexer": "ipython3",
   "version": "3.12.1"
  }
 },
 "nbformat": 4,
 "nbformat_minor": 2
}
