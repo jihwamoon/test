{
 "cells": [
  {
   "attachments": {},
   "cell_type": "markdown",
   "metadata": {},
   "source": [
    "## 예제\n",
    "1. test_csv폴더에 있는 '유통+업종(백화점,+할인점,+슈퍼마켓,+편의점)+카드소비트렌드+데이터_1901_2109'파일을 로드 \n",
    "2. 각 컬럼의 이름을 ['기준연월', '업종', '성별', '연령대', '총이용건수', '총이용금액']\n",
    "3. 기준년월을 시계열데이터로 변경\n",
    "4. 성별 컬럼의 데이터를 1은 남자, 2는 여자로 변경, 9는 무관\n",
    "5. 남, 녀 성별을 기준으로 연도별 건당 이용금액의 평균이 몇인지 출력"
   ]
  },
  {
   "cell_type": "code",
   "execution_count": 1,
   "metadata": {},
   "outputs": [],
   "source": [
    "import pandas as pd"
   ]
  },
  {
   "cell_type": "code",
   "execution_count": 2,
   "metadata": {},
   "outputs": [],
   "source": [
    "df = pd.read_csv(\"../test_csv/유통+업종(백화점,+할인점,+슈퍼마켓,+편의점)+카드소비트렌드+데이터_1901_2109.csv\", encoding='euc-kr')"
   ]
  },
  {
   "cell_type": "code",
   "execution_count": 3,
   "metadata": {},
   "outputs": [
    {
     "data": {
      "text/html": [
       "<div>\n",
       "<style scoped>\n",
       "    .dataframe tbody tr th:only-of-type {\n",
       "        vertical-align: middle;\n",
       "    }\n",
       "\n",
       "    .dataframe tbody tr th {\n",
       "        vertical-align: top;\n",
       "    }\n",
       "\n",
       "    .dataframe thead th {\n",
       "        text-align: right;\n",
       "    }\n",
       "</style>\n",
       "<table border=\"1\" class=\"dataframe\">\n",
       "  <thead>\n",
       "    <tr style=\"text-align: right;\">\n",
       "      <th></th>\n",
       "      <th>crym</th>\n",
       "      <th>tco_btc_nm</th>\n",
       "      <th>ma_fem_dc</th>\n",
       "      <th>agegrp_dc</th>\n",
       "      <th>tco_btc_u_ct</th>\n",
       "      <th>tco_btc_u_am</th>\n",
       "    </tr>\n",
       "  </thead>\n",
       "  <tbody>\n",
       "    <tr>\n",
       "      <th>0</th>\n",
       "      <td>201901</td>\n",
       "      <td>백화점</td>\n",
       "      <td>1</td>\n",
       "      <td>1</td>\n",
       "      <td>1</td>\n",
       "      <td>7.600000e+03</td>\n",
       "    </tr>\n",
       "    <tr>\n",
       "      <th>1</th>\n",
       "      <td>201901</td>\n",
       "      <td>백화점</td>\n",
       "      <td>1</td>\n",
       "      <td>10</td>\n",
       "      <td>379</td>\n",
       "      <td>1.945872e+07</td>\n",
       "    </tr>\n",
       "    <tr>\n",
       "      <th>2</th>\n",
       "      <td>201901</td>\n",
       "      <td>백화점</td>\n",
       "      <td>1</td>\n",
       "      <td>20</td>\n",
       "      <td>45173</td>\n",
       "      <td>4.747711e+09</td>\n",
       "    </tr>\n",
       "    <tr>\n",
       "      <th>3</th>\n",
       "      <td>201901</td>\n",
       "      <td>백화점</td>\n",
       "      <td>1</td>\n",
       "      <td>30</td>\n",
       "      <td>271858</td>\n",
       "      <td>2.791826e+10</td>\n",
       "    </tr>\n",
       "    <tr>\n",
       "      <th>4</th>\n",
       "      <td>201901</td>\n",
       "      <td>백화점</td>\n",
       "      <td>1</td>\n",
       "      <td>40</td>\n",
       "      <td>391109</td>\n",
       "      <td>3.791149e+10</td>\n",
       "    </tr>\n",
       "  </tbody>\n",
       "</table>\n",
       "</div>"
      ],
      "text/plain": [
       "     crym tco_btc_nm  ma_fem_dc  agegrp_dc  tco_btc_u_ct  tco_btc_u_am\n",
       "0  201901        백화점          1          1             1  7.600000e+03\n",
       "1  201901        백화점          1         10           379  1.945872e+07\n",
       "2  201901        백화점          1         20         45173  4.747711e+09\n",
       "3  201901        백화점          1         30        271858  2.791826e+10\n",
       "4  201901        백화점          1         40        391109  3.791149e+10"
      ]
     },
     "execution_count": 3,
     "metadata": {},
     "output_type": "execute_result"
    }
   ],
   "source": [
    "df.head()"
   ]
  },
  {
   "cell_type": "code",
   "execution_count": 4,
   "metadata": {},
   "outputs": [],
   "source": [
    "df.columns = ['기준년월', '업종', '성별', '연령대', '총이용건수', '총이용금액']"
   ]
  },
  {
   "cell_type": "code",
   "execution_count": 5,
   "metadata": {},
   "outputs": [
    {
     "data": {
      "text/html": [
       "<div>\n",
       "<style scoped>\n",
       "    .dataframe tbody tr th:only-of-type {\n",
       "        vertical-align: middle;\n",
       "    }\n",
       "\n",
       "    .dataframe tbody tr th {\n",
       "        vertical-align: top;\n",
       "    }\n",
       "\n",
       "    .dataframe thead th {\n",
       "        text-align: right;\n",
       "    }\n",
       "</style>\n",
       "<table border=\"1\" class=\"dataframe\">\n",
       "  <thead>\n",
       "    <tr style=\"text-align: right;\">\n",
       "      <th></th>\n",
       "      <th>기준년월</th>\n",
       "      <th>업종</th>\n",
       "      <th>성별</th>\n",
       "      <th>연령대</th>\n",
       "      <th>총이용건수</th>\n",
       "      <th>총이용금액</th>\n",
       "    </tr>\n",
       "  </thead>\n",
       "  <tbody>\n",
       "    <tr>\n",
       "      <th>0</th>\n",
       "      <td>201901</td>\n",
       "      <td>백화점</td>\n",
       "      <td>1</td>\n",
       "      <td>1</td>\n",
       "      <td>1</td>\n",
       "      <td>7.600000e+03</td>\n",
       "    </tr>\n",
       "    <tr>\n",
       "      <th>1</th>\n",
       "      <td>201901</td>\n",
       "      <td>백화점</td>\n",
       "      <td>1</td>\n",
       "      <td>10</td>\n",
       "      <td>379</td>\n",
       "      <td>1.945872e+07</td>\n",
       "    </tr>\n",
       "    <tr>\n",
       "      <th>2</th>\n",
       "      <td>201901</td>\n",
       "      <td>백화점</td>\n",
       "      <td>1</td>\n",
       "      <td>20</td>\n",
       "      <td>45173</td>\n",
       "      <td>4.747711e+09</td>\n",
       "    </tr>\n",
       "    <tr>\n",
       "      <th>3</th>\n",
       "      <td>201901</td>\n",
       "      <td>백화점</td>\n",
       "      <td>1</td>\n",
       "      <td>30</td>\n",
       "      <td>271858</td>\n",
       "      <td>2.791826e+10</td>\n",
       "    </tr>\n",
       "    <tr>\n",
       "      <th>4</th>\n",
       "      <td>201901</td>\n",
       "      <td>백화점</td>\n",
       "      <td>1</td>\n",
       "      <td>40</td>\n",
       "      <td>391109</td>\n",
       "      <td>3.791149e+10</td>\n",
       "    </tr>\n",
       "  </tbody>\n",
       "</table>\n",
       "</div>"
      ],
      "text/plain": [
       "     기준년월   업종  성별  연령대   총이용건수         총이용금액\n",
       "0  201901  백화점   1    1       1  7.600000e+03\n",
       "1  201901  백화점   1   10     379  1.945872e+07\n",
       "2  201901  백화점   1   20   45173  4.747711e+09\n",
       "3  201901  백화점   1   30  271858  2.791826e+10\n",
       "4  201901  백화점   1   40  391109  3.791149e+10"
      ]
     },
     "execution_count": 5,
     "metadata": {},
     "output_type": "execute_result"
    }
   ],
   "source": [
    "df.head()"
   ]
  },
  {
   "cell_type": "code",
   "execution_count": 6,
   "metadata": {},
   "outputs": [],
   "source": [
    "# 판다스에서 지수표현 없애기 \n",
    "pd.options.display.float_format = '{:2f}'.format"
   ]
  },
  {
   "cell_type": "code",
   "execution_count": 7,
   "metadata": {},
   "outputs": [],
   "source": [
    "# 기준년월 데이터를 시계열 변경\n",
    "df['기준년월'] = pd.to_datetime(df['기준년월'], format='%Y%m')"
   ]
  },
  {
   "cell_type": "code",
   "execution_count": 8,
   "metadata": {},
   "outputs": [],
   "source": [
    "# 인덱스를 기준년월로 설정\n",
    "df.set_index('기준년월', inplace=True)"
   ]
  },
  {
   "cell_type": "code",
   "execution_count": 9,
   "metadata": {},
   "outputs": [
    {
     "data": {
      "text/plain": [
       "연령대\n",
       "10    264\n",
       "20    264\n",
       "30    264\n",
       "40    264\n",
       "50    264\n",
       "60    264\n",
       "70    264\n",
       "80    264\n",
       "90    264\n",
       "0     233\n",
       "1      39\n",
       "Name: count, dtype: int64"
      ]
     },
     "execution_count": 9,
     "metadata": {},
     "output_type": "execute_result"
    }
   ],
   "source": [
    "# 괴상한 데이터 \n",
    "df['연령대'].value_counts()"
   ]
  },
  {
   "cell_type": "code",
   "execution_count": 39,
   "metadata": {},
   "outputs": [
    {
     "data": {
      "text/html": [
       "<div>\n",
       "<style scoped>\n",
       "    .dataframe tbody tr th:only-of-type {\n",
       "        vertical-align: middle;\n",
       "    }\n",
       "\n",
       "    .dataframe tbody tr th {\n",
       "        vertical-align: top;\n",
       "    }\n",
       "\n",
       "    .dataframe thead th {\n",
       "        text-align: right;\n",
       "    }\n",
       "</style>\n",
       "<table border=\"1\" class=\"dataframe\">\n",
       "  <thead>\n",
       "    <tr style=\"text-align: right;\">\n",
       "      <th></th>\n",
       "      <th>업종</th>\n",
       "      <th>성별</th>\n",
       "      <th>연령대</th>\n",
       "      <th>총이용건수</th>\n",
       "      <th>총이용금액</th>\n",
       "      <th>연도</th>\n",
       "      <th>건당이용금액</th>\n",
       "    </tr>\n",
       "    <tr>\n",
       "      <th>기준년월</th>\n",
       "      <th></th>\n",
       "      <th></th>\n",
       "      <th></th>\n",
       "      <th></th>\n",
       "      <th></th>\n",
       "      <th></th>\n",
       "      <th></th>\n",
       "    </tr>\n",
       "  </thead>\n",
       "  <tbody>\n",
       "    <tr>\n",
       "      <th>2019-01-01</th>\n",
       "      <td>백화점</td>\n",
       "      <td>남자</td>\n",
       "      <td>1</td>\n",
       "      <td>1</td>\n",
       "      <td>7600.000000</td>\n",
       "      <td>2019</td>\n",
       "      <td>7600.000000</td>\n",
       "    </tr>\n",
       "    <tr>\n",
       "      <th>2019-01-01</th>\n",
       "      <td>백화점</td>\n",
       "      <td>남자</td>\n",
       "      <td>10</td>\n",
       "      <td>379</td>\n",
       "      <td>19458720.000000</td>\n",
       "      <td>2019</td>\n",
       "      <td>51342.269129</td>\n",
       "    </tr>\n",
       "    <tr>\n",
       "      <th>2019-01-01</th>\n",
       "      <td>백화점</td>\n",
       "      <td>남자</td>\n",
       "      <td>20</td>\n",
       "      <td>45173</td>\n",
       "      <td>4747711001.000000</td>\n",
       "      <td>2019</td>\n",
       "      <td>105100.635357</td>\n",
       "    </tr>\n",
       "    <tr>\n",
       "      <th>2019-01-01</th>\n",
       "      <td>백화점</td>\n",
       "      <td>남자</td>\n",
       "      <td>30</td>\n",
       "      <td>271858</td>\n",
       "      <td>27918261543.000000</td>\n",
       "      <td>2019</td>\n",
       "      <td>102694.279892</td>\n",
       "    </tr>\n",
       "    <tr>\n",
       "      <th>2019-01-01</th>\n",
       "      <td>백화점</td>\n",
       "      <td>남자</td>\n",
       "      <td>40</td>\n",
       "      <td>391109</td>\n",
       "      <td>37911486656.000000</td>\n",
       "      <td>2019</td>\n",
       "      <td>96933.301601</td>\n",
       "    </tr>\n",
       "    <tr>\n",
       "      <th>2019-01-01</th>\n",
       "      <td>백화점</td>\n",
       "      <td>남자</td>\n",
       "      <td>50</td>\n",
       "      <td>283968</td>\n",
       "      <td>31736078019.000000</td>\n",
       "      <td>2019</td>\n",
       "      <td>111759.346190</td>\n",
       "    </tr>\n",
       "    <tr>\n",
       "      <th>2019-01-01</th>\n",
       "      <td>백화점</td>\n",
       "      <td>남자</td>\n",
       "      <td>60</td>\n",
       "      <td>130554</td>\n",
       "      <td>16122234295.000000</td>\n",
       "      <td>2019</td>\n",
       "      <td>123490.925556</td>\n",
       "    </tr>\n",
       "    <tr>\n",
       "      <th>2019-01-01</th>\n",
       "      <td>백화점</td>\n",
       "      <td>남자</td>\n",
       "      <td>70</td>\n",
       "      <td>41998</td>\n",
       "      <td>4687676432.000000</td>\n",
       "      <td>2019</td>\n",
       "      <td>111616.658698</td>\n",
       "    </tr>\n",
       "    <tr>\n",
       "      <th>2019-01-01</th>\n",
       "      <td>백화점</td>\n",
       "      <td>남자</td>\n",
       "      <td>80</td>\n",
       "      <td>11198</td>\n",
       "      <td>1186133303.000000</td>\n",
       "      <td>2019</td>\n",
       "      <td>105923.674138</td>\n",
       "    </tr>\n",
       "    <tr>\n",
       "      <th>2019-01-01</th>\n",
       "      <td>백화점</td>\n",
       "      <td>남자</td>\n",
       "      <td>90</td>\n",
       "      <td>468</td>\n",
       "      <td>29194852.000000</td>\n",
       "      <td>2019</td>\n",
       "      <td>62382.162393</td>\n",
       "    </tr>\n",
       "  </tbody>\n",
       "</table>\n",
       "</div>"
      ],
      "text/plain": [
       "             업종  성별  연령대   총이용건수              총이용금액    연도        건당이용금액\n",
       "기준년월                                                                   \n",
       "2019-01-01  백화점  남자    1       1        7600.000000  2019   7600.000000\n",
       "2019-01-01  백화점  남자   10     379    19458720.000000  2019  51342.269129\n",
       "2019-01-01  백화점  남자   20   45173  4747711001.000000  2019 105100.635357\n",
       "2019-01-01  백화점  남자   30  271858 27918261543.000000  2019 102694.279892\n",
       "2019-01-01  백화점  남자   40  391109 37911486656.000000  2019  96933.301601\n",
       "2019-01-01  백화점  남자   50  283968 31736078019.000000  2019 111759.346190\n",
       "2019-01-01  백화점  남자   60  130554 16122234295.000000  2019 123490.925556\n",
       "2019-01-01  백화점  남자   70   41998  4687676432.000000  2019 111616.658698\n",
       "2019-01-01  백화점  남자   80   11198  1186133303.000000  2019 105923.674138\n",
       "2019-01-01  백화점  남자   90     468    29194852.000000  2019  62382.162393"
      ]
     },
     "execution_count": 39,
     "metadata": {},
     "output_type": "execute_result"
    }
   ],
   "source": [
    "df.head(10)"
   ]
  },
  {
   "cell_type": "code",
   "execution_count": 10,
   "metadata": {},
   "outputs": [
    {
     "data": {
      "text/plain": [
       "성별\n",
       "여자    1336\n",
       "남자    1312\n",
       "Name: count, dtype: int64"
      ]
     },
     "execution_count": 10,
     "metadata": {},
     "output_type": "execute_result"
    }
   ],
   "source": [
    "# 성별 컬럼에서 1은 남자 2는 여자 9는 무관\n",
    "\n",
    "# case1\n",
    "def change(x):\n",
    "    if x == 1:\n",
    "        result = '남자'\n",
    "    elif x == 2:\n",
    "        result = '여자'\n",
    "    elif x == 9:\n",
    "        result = '무관'\n",
    "    else:\n",
    "        result = \"-\"\n",
    "    return result\n",
    "\n",
    "df['성별'].apply(change).value_counts()"
   ]
  },
  {
   "cell_type": "code",
   "execution_count": 11,
   "metadata": {},
   "outputs": [
    {
     "data": {
      "text/plain": [
       "기준년월\n",
       "2019-01-01    남자\n",
       "2019-01-01    남자\n",
       "2019-01-01    남자\n",
       "2019-01-01    남자\n",
       "2019-01-01    남자\n",
       "              ..\n",
       "2021-09-01    여자\n",
       "2021-09-01    여자\n",
       "2021-09-01    여자\n",
       "2021-09-01    여자\n",
       "2021-09-01    여자\n",
       "Name: 성별, Length: 2648, dtype: object"
      ]
     },
     "execution_count": 11,
     "metadata": {},
     "output_type": "execute_result"
    }
   ],
   "source": [
    "df['성별'].apply(lambda x : \"남자\" if (x == 1) else (\"여자\" if (x ==2) else \"무관\"))"
   ]
  },
  {
   "cell_type": "code",
   "execution_count": 12,
   "metadata": {},
   "outputs": [],
   "source": [
    "df['성별'] = df['성별'].replace(\n",
    "    {\n",
    "        1 : '남자', \n",
    "        2 : '여자', \n",
    "        9 : \"무관\"\n",
    "    }\n",
    ")"
   ]
  },
  {
   "cell_type": "code",
   "execution_count": 13,
   "metadata": {},
   "outputs": [
    {
     "data": {
      "text/plain": [
       "성별\n",
       "여자    1336\n",
       "남자    1312\n",
       "Name: count, dtype: int64"
      ]
     },
     "execution_count": 13,
     "metadata": {},
     "output_type": "execute_result"
    }
   ],
   "source": [
    "df['성별'].value_counts()"
   ]
  },
  {
   "cell_type": "code",
   "execution_count": 14,
   "metadata": {},
   "outputs": [],
   "source": [
    "# 연도 파생변수 생성\n",
    "df['연도'] = df.index.strftime('%Y')"
   ]
  },
  {
   "cell_type": "code",
   "execution_count": 41,
   "metadata": {},
   "outputs": [
    {
     "data": {
      "text/plain": [
       "Index([2019, 2019, 2019, 2019, 2019, 2019, 2019, 2019, 2019, 2019,\n",
       "       ...\n",
       "       2021, 2021, 2021, 2021, 2021, 2021, 2021, 2021, 2021, 2021],\n",
       "      dtype='int32', name='기준년월', length=2648)"
      ]
     },
     "execution_count": 41,
     "metadata": {},
     "output_type": "execute_result"
    }
   ],
   "source": [
    "df.index.year"
   ]
  },
  {
   "cell_type": "code",
   "execution_count": 15,
   "metadata": {},
   "outputs": [
    {
     "data": {
      "text/html": [
       "<div>\n",
       "<style scoped>\n",
       "    .dataframe tbody tr th:only-of-type {\n",
       "        vertical-align: middle;\n",
       "    }\n",
       "\n",
       "    .dataframe tbody tr th {\n",
       "        vertical-align: top;\n",
       "    }\n",
       "\n",
       "    .dataframe thead th {\n",
       "        text-align: right;\n",
       "    }\n",
       "</style>\n",
       "<table border=\"1\" class=\"dataframe\">\n",
       "  <thead>\n",
       "    <tr style=\"text-align: right;\">\n",
       "      <th></th>\n",
       "      <th>업종</th>\n",
       "      <th>성별</th>\n",
       "      <th>연령대</th>\n",
       "      <th>총이용건수</th>\n",
       "      <th>총이용금액</th>\n",
       "      <th>연도</th>\n",
       "    </tr>\n",
       "    <tr>\n",
       "      <th>기준년월</th>\n",
       "      <th></th>\n",
       "      <th></th>\n",
       "      <th></th>\n",
       "      <th></th>\n",
       "      <th></th>\n",
       "      <th></th>\n",
       "    </tr>\n",
       "  </thead>\n",
       "  <tbody>\n",
       "    <tr>\n",
       "      <th>2019-01-01</th>\n",
       "      <td>백화점</td>\n",
       "      <td>남자</td>\n",
       "      <td>1</td>\n",
       "      <td>1</td>\n",
       "      <td>7600.000000</td>\n",
       "      <td>2019</td>\n",
       "    </tr>\n",
       "    <tr>\n",
       "      <th>2019-01-01</th>\n",
       "      <td>백화점</td>\n",
       "      <td>남자</td>\n",
       "      <td>10</td>\n",
       "      <td>379</td>\n",
       "      <td>19458720.000000</td>\n",
       "      <td>2019</td>\n",
       "    </tr>\n",
       "    <tr>\n",
       "      <th>2019-01-01</th>\n",
       "      <td>백화점</td>\n",
       "      <td>남자</td>\n",
       "      <td>20</td>\n",
       "      <td>45173</td>\n",
       "      <td>4747711001.000000</td>\n",
       "      <td>2019</td>\n",
       "    </tr>\n",
       "    <tr>\n",
       "      <th>2019-01-01</th>\n",
       "      <td>백화점</td>\n",
       "      <td>남자</td>\n",
       "      <td>30</td>\n",
       "      <td>271858</td>\n",
       "      <td>27918261543.000000</td>\n",
       "      <td>2019</td>\n",
       "    </tr>\n",
       "    <tr>\n",
       "      <th>2019-01-01</th>\n",
       "      <td>백화점</td>\n",
       "      <td>남자</td>\n",
       "      <td>40</td>\n",
       "      <td>391109</td>\n",
       "      <td>37911486656.000000</td>\n",
       "      <td>2019</td>\n",
       "    </tr>\n",
       "  </tbody>\n",
       "</table>\n",
       "</div>"
      ],
      "text/plain": [
       "             업종  성별  연령대   총이용건수              총이용금액    연도\n",
       "기준년월                                                     \n",
       "2019-01-01  백화점  남자    1       1        7600.000000  2019\n",
       "2019-01-01  백화점  남자   10     379    19458720.000000  2019\n",
       "2019-01-01  백화점  남자   20   45173  4747711001.000000  2019\n",
       "2019-01-01  백화점  남자   30  271858 27918261543.000000  2019\n",
       "2019-01-01  백화점  남자   40  391109 37911486656.000000  2019"
      ]
     },
     "execution_count": 15,
     "metadata": {},
     "output_type": "execute_result"
    }
   ],
   "source": [
    "df.head()"
   ]
  },
  {
   "cell_type": "code",
   "execution_count": 16,
   "metadata": {},
   "outputs": [],
   "source": [
    "# 건당 이용금액 파생변수 생성\n",
    "# 총이용금액 / 총이용건수\n",
    "df['건당이용금액'] = df['총이용금액'] / df['총이용건수']"
   ]
  },
  {
   "cell_type": "code",
   "execution_count": 17,
   "metadata": {},
   "outputs": [
    {
     "data": {
      "text/html": [
       "<div>\n",
       "<style scoped>\n",
       "    .dataframe tbody tr th:only-of-type {\n",
       "        vertical-align: middle;\n",
       "    }\n",
       "\n",
       "    .dataframe tbody tr th {\n",
       "        vertical-align: top;\n",
       "    }\n",
       "\n",
       "    .dataframe thead th {\n",
       "        text-align: right;\n",
       "    }\n",
       "</style>\n",
       "<table border=\"1\" class=\"dataframe\">\n",
       "  <thead>\n",
       "    <tr style=\"text-align: right;\">\n",
       "      <th></th>\n",
       "      <th>업종</th>\n",
       "      <th>성별</th>\n",
       "      <th>연령대</th>\n",
       "      <th>총이용건수</th>\n",
       "      <th>총이용금액</th>\n",
       "      <th>연도</th>\n",
       "      <th>건당이용금액</th>\n",
       "    </tr>\n",
       "    <tr>\n",
       "      <th>기준년월</th>\n",
       "      <th></th>\n",
       "      <th></th>\n",
       "      <th></th>\n",
       "      <th></th>\n",
       "      <th></th>\n",
       "      <th></th>\n",
       "      <th></th>\n",
       "    </tr>\n",
       "  </thead>\n",
       "  <tbody>\n",
       "    <tr>\n",
       "      <th>2019-01-01</th>\n",
       "      <td>백화점</td>\n",
       "      <td>남자</td>\n",
       "      <td>1</td>\n",
       "      <td>1</td>\n",
       "      <td>7600.000000</td>\n",
       "      <td>2019</td>\n",
       "      <td>7600.000000</td>\n",
       "    </tr>\n",
       "    <tr>\n",
       "      <th>2019-01-01</th>\n",
       "      <td>백화점</td>\n",
       "      <td>남자</td>\n",
       "      <td>10</td>\n",
       "      <td>379</td>\n",
       "      <td>19458720.000000</td>\n",
       "      <td>2019</td>\n",
       "      <td>51342.269129</td>\n",
       "    </tr>\n",
       "    <tr>\n",
       "      <th>2019-01-01</th>\n",
       "      <td>백화점</td>\n",
       "      <td>남자</td>\n",
       "      <td>20</td>\n",
       "      <td>45173</td>\n",
       "      <td>4747711001.000000</td>\n",
       "      <td>2019</td>\n",
       "      <td>105100.635357</td>\n",
       "    </tr>\n",
       "    <tr>\n",
       "      <th>2019-01-01</th>\n",
       "      <td>백화점</td>\n",
       "      <td>남자</td>\n",
       "      <td>30</td>\n",
       "      <td>271858</td>\n",
       "      <td>27918261543.000000</td>\n",
       "      <td>2019</td>\n",
       "      <td>102694.279892</td>\n",
       "    </tr>\n",
       "    <tr>\n",
       "      <th>2019-01-01</th>\n",
       "      <td>백화점</td>\n",
       "      <td>남자</td>\n",
       "      <td>40</td>\n",
       "      <td>391109</td>\n",
       "      <td>37911486656.000000</td>\n",
       "      <td>2019</td>\n",
       "      <td>96933.301601</td>\n",
       "    </tr>\n",
       "  </tbody>\n",
       "</table>\n",
       "</div>"
      ],
      "text/plain": [
       "             업종  성별  연령대   총이용건수              총이용금액    연도        건당이용금액\n",
       "기준년월                                                                   \n",
       "2019-01-01  백화점  남자    1       1        7600.000000  2019   7600.000000\n",
       "2019-01-01  백화점  남자   10     379    19458720.000000  2019  51342.269129\n",
       "2019-01-01  백화점  남자   20   45173  4747711001.000000  2019 105100.635357\n",
       "2019-01-01  백화점  남자   30  271858 27918261543.000000  2019 102694.279892\n",
       "2019-01-01  백화점  남자   40  391109 37911486656.000000  2019  96933.301601"
      ]
     },
     "execution_count": 17,
     "metadata": {},
     "output_type": "execute_result"
    }
   ],
   "source": [
    "df.head()"
   ]
  },
  {
   "cell_type": "code",
   "execution_count": 18,
   "metadata": {},
   "outputs": [],
   "source": [
    "import platform"
   ]
  },
  {
   "cell_type": "code",
   "execution_count": 19,
   "metadata": {},
   "outputs": [],
   "source": [
    "import matplotlib.pyplot as plt"
   ]
  },
  {
   "cell_type": "code",
   "execution_count": 20,
   "metadata": {},
   "outputs": [],
   "source": [
    "# 그래프에서 한글 깨짐 방지 \n",
    "if platform.system() == \"Darwin\":    # MAC 인 경우\n",
    "    plt.rc('font', family = 'AppleGothic')\n",
    "else:\n",
    "    plt.rc('font', family = 'Malgun Gothic')"
   ]
  },
  {
   "cell_type": "code",
   "execution_count": 21,
   "metadata": {},
   "outputs": [
    {
     "data": {
      "text/plain": [
       "<Axes: xlabel='연도,성별'>"
      ]
     },
     "execution_count": 21,
     "metadata": {},
     "output_type": "execute_result"
    },
    {
     "data": {
      "image/png": "[encoded data removed]",
      "text/plain": [
       "<Figure size 640x480 with 1 Axes>"
      ]
     },
     "metadata": {},
     "output_type": "display_data"
    }
   ],
   "source": [
    "(df[['연도', \"성별\" ,'건당이용금액']].groupby(['연도', '성별']).mean()).plot.bar()"
   ]
  },
  {
   "cell_type": "code",
   "execution_count": 22,
   "metadata": {},
   "outputs": [],
   "source": [
    "pivot = pd.pivot_table(\n",
    "    df, \n",
    "    index= '연도', \n",
    "    columns = '성별', \n",
    "    aggfunc = \"mean\", \n",
    "    values = '건당이용금액'\n",
    ")"
   ]
  },
  {
   "cell_type": "code",
   "execution_count": 23,
   "metadata": {},
   "outputs": [
    {
     "data": {
      "text/plain": [
       "<Axes: xlabel='연도'>"
      ]
     },
     "execution_count": 23,
     "metadata": {},
     "output_type": "execute_result"
    },
    {
     "data": {
      "image/png": "[encoded data removed]",
      "text/plain": [
       "<Figure size 640x480 with 1 Axes>"
      ]
     },
     "metadata": {},
     "output_type": "display_data"
    }
   ],
   "source": [
    "pivot.plot.bar()"
   ]
  },
  {
   "attachments": {},
   "cell_type": "markdown",
   "metadata": {},
   "source": [
    "### 온라인 카드 매출과 오프라인 카드 매출을 월별로 비교\n",
    "1. 오프라인 데이터 df를 월별로 그룹화 총이용금액의 합계\n",
    "    - 인덱스는 기준년월을 시계열로 변경한 데이터로 설정\n",
    "2. 온라인 데이터 df_online도 월별로 그룹화 총이용금액의 합계\n",
    "    - 인덱스는 기준년월을 시계열로 변경한 데이터로 설정"
   ]
  },
  {
   "cell_type": "code",
   "execution_count": 24,
   "metadata": {},
   "outputs": [
    {
     "data": {
      "text/html": [
       "<div>\n",
       "<style scoped>\n",
       "    .dataframe tbody tr th:only-of-type {\n",
       "        vertical-align: middle;\n",
       "    }\n",
       "\n",
       "    .dataframe tbody tr th {\n",
       "        vertical-align: top;\n",
       "    }\n",
       "\n",
       "    .dataframe thead th {\n",
       "        text-align: right;\n",
       "    }\n",
       "</style>\n",
       "<table border=\"1\" class=\"dataframe\">\n",
       "  <thead>\n",
       "    <tr style=\"text-align: right;\">\n",
       "      <th></th>\n",
       "      <th>업종</th>\n",
       "      <th>성별</th>\n",
       "      <th>연령대</th>\n",
       "      <th>총이용건수</th>\n",
       "      <th>총이용금액</th>\n",
       "      <th>연도</th>\n",
       "      <th>건당이용금액</th>\n",
       "    </tr>\n",
       "    <tr>\n",
       "      <th>기준년월</th>\n",
       "      <th></th>\n",
       "      <th></th>\n",
       "      <th></th>\n",
       "      <th></th>\n",
       "      <th></th>\n",
       "      <th></th>\n",
       "      <th></th>\n",
       "    </tr>\n",
       "  </thead>\n",
       "  <tbody>\n",
       "    <tr>\n",
       "      <th>2019-01-01</th>\n",
       "      <td>백화점</td>\n",
       "      <td>남자</td>\n",
       "      <td>1</td>\n",
       "      <td>1</td>\n",
       "      <td>7600.000000</td>\n",
       "      <td>2019</td>\n",
       "      <td>7600.000000</td>\n",
       "    </tr>\n",
       "    <tr>\n",
       "      <th>2019-01-01</th>\n",
       "      <td>백화점</td>\n",
       "      <td>남자</td>\n",
       "      <td>10</td>\n",
       "      <td>379</td>\n",
       "      <td>19458720.000000</td>\n",
       "      <td>2019</td>\n",
       "      <td>51342.269129</td>\n",
       "    </tr>\n",
       "    <tr>\n",
       "      <th>2019-01-01</th>\n",
       "      <td>백화점</td>\n",
       "      <td>남자</td>\n",
       "      <td>20</td>\n",
       "      <td>45173</td>\n",
       "      <td>4747711001.000000</td>\n",
       "      <td>2019</td>\n",
       "      <td>105100.635357</td>\n",
       "    </tr>\n",
       "    <tr>\n",
       "      <th>2019-01-01</th>\n",
       "      <td>백화점</td>\n",
       "      <td>남자</td>\n",
       "      <td>30</td>\n",
       "      <td>271858</td>\n",
       "      <td>27918261543.000000</td>\n",
       "      <td>2019</td>\n",
       "      <td>102694.279892</td>\n",
       "    </tr>\n",
       "    <tr>\n",
       "      <th>2019-01-01</th>\n",
       "      <td>백화점</td>\n",
       "      <td>남자</td>\n",
       "      <td>40</td>\n",
       "      <td>391109</td>\n",
       "      <td>37911486656.000000</td>\n",
       "      <td>2019</td>\n",
       "      <td>96933.301601</td>\n",
       "    </tr>\n",
       "  </tbody>\n",
       "</table>\n",
       "</div>"
      ],
      "text/plain": [
       "             업종  성별  연령대   총이용건수              총이용금액    연도        건당이용금액\n",
       "기준년월                                                                   \n",
       "2019-01-01  백화점  남자    1       1        7600.000000  2019   7600.000000\n",
       "2019-01-01  백화점  남자   10     379    19458720.000000  2019  51342.269129\n",
       "2019-01-01  백화점  남자   20   45173  4747711001.000000  2019 105100.635357\n",
       "2019-01-01  백화점  남자   30  271858 27918261543.000000  2019 102694.279892\n",
       "2019-01-01  백화점  남자   40  391109 37911486656.000000  2019  96933.301601"
      ]
     },
     "execution_count": 24,
     "metadata": {},
     "output_type": "execute_result"
    }
   ],
   "source": [
    "df.head()"
   ]
  },
  {
   "cell_type": "code",
   "execution_count": 25,
   "metadata": {},
   "outputs": [],
   "source": [
    "group_data = df.groupby(df.index).sum()['총이용금액']"
   ]
  },
  {
   "cell_type": "code",
   "execution_count": 26,
   "metadata": {},
   "outputs": [],
   "source": [
    "df_online = pd.read_csv(\"../test_csv/온라인+카드소비트렌드+데이터_1901_2109.csv\")"
   ]
  },
  {
   "cell_type": "code",
   "execution_count": 27,
   "metadata": {},
   "outputs": [
    {
     "data": {
      "text/html": [
       "<div>\n",
       "<style scoped>\n",
       "    .dataframe tbody tr th:only-of-type {\n",
       "        vertical-align: middle;\n",
       "    }\n",
       "\n",
       "    .dataframe tbody tr th {\n",
       "        vertical-align: top;\n",
       "    }\n",
       "\n",
       "    .dataframe thead th {\n",
       "        text-align: right;\n",
       "    }\n",
       "</style>\n",
       "<table border=\"1\" class=\"dataframe\">\n",
       "  <thead>\n",
       "    <tr style=\"text-align: right;\">\n",
       "      <th></th>\n",
       "      <th>crym</th>\n",
       "      <th>ma_fem_dc</th>\n",
       "      <th>agegrp_dc</th>\n",
       "      <th>tco_btc_u_ct</th>\n",
       "      <th>tco_btc_u_am</th>\n",
       "    </tr>\n",
       "  </thead>\n",
       "  <tbody>\n",
       "    <tr>\n",
       "      <th>0</th>\n",
       "      <td>201901</td>\n",
       "      <td>1</td>\n",
       "      <td>1</td>\n",
       "      <td>1</td>\n",
       "      <td>110685</td>\n",
       "    </tr>\n",
       "    <tr>\n",
       "      <th>1</th>\n",
       "      <td>201901</td>\n",
       "      <td>1</td>\n",
       "      <td>10</td>\n",
       "      <td>2333</td>\n",
       "      <td>98108225</td>\n",
       "    </tr>\n",
       "    <tr>\n",
       "      <th>2</th>\n",
       "      <td>201901</td>\n",
       "      <td>1</td>\n",
       "      <td>20</td>\n",
       "      <td>272915</td>\n",
       "      <td>13854081656</td>\n",
       "    </tr>\n",
       "    <tr>\n",
       "      <th>3</th>\n",
       "      <td>201901</td>\n",
       "      <td>1</td>\n",
       "      <td>30</td>\n",
       "      <td>1320227</td>\n",
       "      <td>82946127640</td>\n",
       "    </tr>\n",
       "    <tr>\n",
       "      <th>4</th>\n",
       "      <td>201901</td>\n",
       "      <td>1</td>\n",
       "      <td>40</td>\n",
       "      <td>1372052</td>\n",
       "      <td>95550848337</td>\n",
       "    </tr>\n",
       "  </tbody>\n",
       "</table>\n",
       "</div>"
      ],
      "text/plain": [
       "     crym  ma_fem_dc  agegrp_dc  tco_btc_u_ct  tco_btc_u_am\n",
       "0  201901          1          1             1        110685\n",
       "1  201901          1         10          2333      98108225\n",
       "2  201901          1         20        272915   13854081656\n",
       "3  201901          1         30       1320227   82946127640\n",
       "4  201901          1         40       1372052   95550848337"
      ]
     },
     "execution_count": 27,
     "metadata": {},
     "output_type": "execute_result"
    }
   ],
   "source": [
    "df_online.head()"
   ]
  },
  {
   "cell_type": "code",
   "execution_count": 28,
   "metadata": {},
   "outputs": [],
   "source": [
    "# 컬럼의 이름을 변경\n",
    "df_online.columns = ['기준년월', '성별', '연령대', '총이용건수', '총이용금액']"
   ]
  },
  {
   "cell_type": "code",
   "execution_count": 29,
   "metadata": {},
   "outputs": [],
   "source": [
    "# 기준년월을 시계열로 변경하고 인덱스로 설정\n",
    "df_online['기준년월'] = pd.to_datetime(df_online['기준년월'], format='%Y%m')"
   ]
  },
  {
   "cell_type": "code",
   "execution_count": 30,
   "metadata": {},
   "outputs": [],
   "source": [
    "df_online.set_index('기준년월', inplace=True)"
   ]
  },
  {
   "cell_type": "code",
   "execution_count": 31,
   "metadata": {},
   "outputs": [],
   "source": [
    "# 그룹화\n",
    "group_data2 = df_online.groupby('기준년월').sum()['총이용금액']"
   ]
  },
  {
   "cell_type": "code",
   "execution_count": 42,
   "metadata": {},
   "outputs": [
    {
     "data": {
      "image/png": "[encoded data removed]",
      "text/plain": [
       "<Figure size 1400x600 with 1 Axes>"
      ]
     },
     "metadata": {},
     "output_type": "display_data"
    }
   ],
   "source": [
    "# 그래프로 시각화\n",
    "\n",
    "# 그래프의 사이즈 변경\n",
    "plt.figure(figsize = (14, 6))\n",
    "\n",
    "# grid 추가\n",
    "plt.grid(True, axis = 'y')\n",
    "\n",
    "# 지수표현 제거 \n",
    "plt.ticklabel_format(axis = 'y', style='plain')\n",
    "\n",
    "plt.plot(group_data, label='오프라인')\n",
    "plt.plot(group_data2, label = '온라인')\n",
    "plt.plot(group_data + group_data2, label='총합계')\n",
    "plt.title('온라인/오프라인 카드매출 비교')\n",
    "plt.legend()\n",
    "plt.show()"
   ]
  },
  {
   "cell_type": "code",
   "execution_count": 33,
   "metadata": {},
   "outputs": [
    {
     "data": {
      "text/html": [
       "<div>\n",
       "<style scoped>\n",
       "    .dataframe tbody tr th:only-of-type {\n",
       "        vertical-align: middle;\n",
       "    }\n",
       "\n",
       "    .dataframe tbody tr th {\n",
       "        vertical-align: top;\n",
       "    }\n",
       "\n",
       "    .dataframe thead th {\n",
       "        text-align: right;\n",
       "    }\n",
       "</style>\n",
       "<table border=\"1\" class=\"dataframe\">\n",
       "  <thead>\n",
       "    <tr style=\"text-align: right;\">\n",
       "      <th></th>\n",
       "      <th>업종</th>\n",
       "      <th>성별</th>\n",
       "      <th>연령대</th>\n",
       "      <th>총이용건수</th>\n",
       "      <th>총이용금액</th>\n",
       "      <th>연도</th>\n",
       "      <th>건당이용금액</th>\n",
       "    </tr>\n",
       "    <tr>\n",
       "      <th>기준년월</th>\n",
       "      <th></th>\n",
       "      <th></th>\n",
       "      <th></th>\n",
       "      <th></th>\n",
       "      <th></th>\n",
       "      <th></th>\n",
       "      <th></th>\n",
       "    </tr>\n",
       "  </thead>\n",
       "  <tbody>\n",
       "    <tr>\n",
       "      <th>2019-01-01</th>\n",
       "      <td>백화점</td>\n",
       "      <td>남자</td>\n",
       "      <td>1</td>\n",
       "      <td>1</td>\n",
       "      <td>7600.000000</td>\n",
       "      <td>2019</td>\n",
       "      <td>7600.000000</td>\n",
       "    </tr>\n",
       "    <tr>\n",
       "      <th>2019-01-01</th>\n",
       "      <td>백화점</td>\n",
       "      <td>남자</td>\n",
       "      <td>10</td>\n",
       "      <td>379</td>\n",
       "      <td>19458720.000000</td>\n",
       "      <td>2019</td>\n",
       "      <td>51342.269129</td>\n",
       "    </tr>\n",
       "    <tr>\n",
       "      <th>2019-01-01</th>\n",
       "      <td>백화점</td>\n",
       "      <td>남자</td>\n",
       "      <td>20</td>\n",
       "      <td>45173</td>\n",
       "      <td>4747711001.000000</td>\n",
       "      <td>2019</td>\n",
       "      <td>105100.635357</td>\n",
       "    </tr>\n",
       "    <tr>\n",
       "      <th>2019-01-01</th>\n",
       "      <td>백화점</td>\n",
       "      <td>남자</td>\n",
       "      <td>30</td>\n",
       "      <td>271858</td>\n",
       "      <td>27918261543.000000</td>\n",
       "      <td>2019</td>\n",
       "      <td>102694.279892</td>\n",
       "    </tr>\n",
       "    <tr>\n",
       "      <th>2019-01-01</th>\n",
       "      <td>백화점</td>\n",
       "      <td>남자</td>\n",
       "      <td>40</td>\n",
       "      <td>391109</td>\n",
       "      <td>37911486656.000000</td>\n",
       "      <td>2019</td>\n",
       "      <td>96933.301601</td>\n",
       "    </tr>\n",
       "    <tr>\n",
       "      <th>...</th>\n",
       "      <td>...</td>\n",
       "      <td>...</td>\n",
       "      <td>...</td>\n",
       "      <td>...</td>\n",
       "      <td>...</td>\n",
       "      <td>...</td>\n",
       "      <td>...</td>\n",
       "    </tr>\n",
       "    <tr>\n",
       "      <th>2021-09-01</th>\n",
       "      <td>편의점</td>\n",
       "      <td>여자</td>\n",
       "      <td>50</td>\n",
       "      <td>844081</td>\n",
       "      <td>6283353303.000000</td>\n",
       "      <td>2021</td>\n",
       "      <td>7444.016988</td>\n",
       "    </tr>\n",
       "    <tr>\n",
       "      <th>2021-09-01</th>\n",
       "      <td>편의점</td>\n",
       "      <td>여자</td>\n",
       "      <td>60</td>\n",
       "      <td>243768</td>\n",
       "      <td>1997441975.000000</td>\n",
       "      <td>2021</td>\n",
       "      <td>8194.028646</td>\n",
       "    </tr>\n",
       "    <tr>\n",
       "      <th>2021-09-01</th>\n",
       "      <td>편의점</td>\n",
       "      <td>여자</td>\n",
       "      <td>70</td>\n",
       "      <td>40523</td>\n",
       "      <td>352420260.000000</td>\n",
       "      <td>2021</td>\n",
       "      <td>8696.795894</td>\n",
       "    </tr>\n",
       "    <tr>\n",
       "      <th>2021-09-01</th>\n",
       "      <td>편의점</td>\n",
       "      <td>여자</td>\n",
       "      <td>80</td>\n",
       "      <td>6349</td>\n",
       "      <td>53334882.000000</td>\n",
       "      <td>2021</td>\n",
       "      <td>8400.516932</td>\n",
       "    </tr>\n",
       "    <tr>\n",
       "      <th>2021-09-01</th>\n",
       "      <td>편의점</td>\n",
       "      <td>여자</td>\n",
       "      <td>90</td>\n",
       "      <td>273</td>\n",
       "      <td>2619730.000000</td>\n",
       "      <td>2021</td>\n",
       "      <td>9596.080586</td>\n",
       "    </tr>\n",
       "  </tbody>\n",
       "</table>\n",
       "<p>2648 rows × 7 columns</p>\n",
       "</div>"
      ],
      "text/plain": [
       "             업종  성별  연령대   총이용건수              총이용금액    연도        건당이용금액\n",
       "기준년월                                                                   \n",
       "2019-01-01  백화점  남자    1       1        7600.000000  2019   7600.000000\n",
       "2019-01-01  백화점  남자   10     379    19458720.000000  2019  51342.269129\n",
       "2019-01-01  백화점  남자   20   45173  4747711001.000000  2019 105100.635357\n",
       "2019-01-01  백화점  남자   30  271858 27918261543.000000  2019 102694.279892\n",
       "2019-01-01  백화점  남자   40  391109 37911486656.000000  2019  96933.301601\n",
       "...         ...  ..  ...     ...                ...   ...           ...\n",
       "2021-09-01  편의점  여자   50  844081  6283353303.000000  2021   7444.016988\n",
       "2021-09-01  편의점  여자   60  243768  1997441975.000000  2021   8194.028646\n",
       "2021-09-01  편의점  여자   70   40523   352420260.000000  2021   8696.795894\n",
       "2021-09-01  편의점  여자   80    6349    53334882.000000  2021   8400.516932\n",
       "2021-09-01  편의점  여자   90     273     2619730.000000  2021   9596.080586\n",
       "\n",
       "[2648 rows x 7 columns]"
      ]
     },
     "execution_count": 33,
     "metadata": {},
     "output_type": "execute_result"
    }
   ],
   "source": [
    "df"
   ]
  },
  {
   "cell_type": "code",
   "execution_count": 34,
   "metadata": {},
   "outputs": [],
   "source": [
    "df_online['업종'] = \"온라인\""
   ]
  },
  {
   "cell_type": "code",
   "execution_count": 35,
   "metadata": {},
   "outputs": [
    {
     "data": {
      "text/html": [
       "<div>\n",
       "<style scoped>\n",
       "    .dataframe tbody tr th:only-of-type {\n",
       "        vertical-align: middle;\n",
       "    }\n",
       "\n",
       "    .dataframe tbody tr th {\n",
       "        vertical-align: top;\n",
       "    }\n",
       "\n",
       "    .dataframe thead th {\n",
       "        text-align: right;\n",
       "    }\n",
       "</style>\n",
       "<table border=\"1\" class=\"dataframe\">\n",
       "  <thead>\n",
       "    <tr style=\"text-align: right;\">\n",
       "      <th></th>\n",
       "      <th>성별</th>\n",
       "      <th>연령대</th>\n",
       "      <th>총이용건수</th>\n",
       "      <th>총이용금액</th>\n",
       "      <th>업종</th>\n",
       "    </tr>\n",
       "    <tr>\n",
       "      <th>기준년월</th>\n",
       "      <th></th>\n",
       "      <th></th>\n",
       "      <th></th>\n",
       "      <th></th>\n",
       "      <th></th>\n",
       "    </tr>\n",
       "  </thead>\n",
       "  <tbody>\n",
       "    <tr>\n",
       "      <th>2019-01-01</th>\n",
       "      <td>1</td>\n",
       "      <td>1</td>\n",
       "      <td>1</td>\n",
       "      <td>110685</td>\n",
       "      <td>온라인</td>\n",
       "    </tr>\n",
       "    <tr>\n",
       "      <th>2019-01-01</th>\n",
       "      <td>1</td>\n",
       "      <td>10</td>\n",
       "      <td>2333</td>\n",
       "      <td>98108225</td>\n",
       "      <td>온라인</td>\n",
       "    </tr>\n",
       "    <tr>\n",
       "      <th>2019-01-01</th>\n",
       "      <td>1</td>\n",
       "      <td>20</td>\n",
       "      <td>272915</td>\n",
       "      <td>13854081656</td>\n",
       "      <td>온라인</td>\n",
       "    </tr>\n",
       "    <tr>\n",
       "      <th>2019-01-01</th>\n",
       "      <td>1</td>\n",
       "      <td>30</td>\n",
       "      <td>1320227</td>\n",
       "      <td>82946127640</td>\n",
       "      <td>온라인</td>\n",
       "    </tr>\n",
       "    <tr>\n",
       "      <th>2019-01-01</th>\n",
       "      <td>1</td>\n",
       "      <td>40</td>\n",
       "      <td>1372052</td>\n",
       "      <td>95550848337</td>\n",
       "      <td>온라인</td>\n",
       "    </tr>\n",
       "  </tbody>\n",
       "</table>\n",
       "</div>"
      ],
      "text/plain": [
       "            성별  연령대    총이용건수        총이용금액   업종\n",
       "기준년월                                          \n",
       "2019-01-01   1    1        1       110685  온라인\n",
       "2019-01-01   1   10     2333     98108225  온라인\n",
       "2019-01-01   1   20   272915  13854081656  온라인\n",
       "2019-01-01   1   30  1320227  82946127640  온라인\n",
       "2019-01-01   1   40  1372052  95550848337  온라인"
      ]
     },
     "execution_count": 35,
     "metadata": {},
     "output_type": "execute_result"
    }
   ],
   "source": [
    "df_online.head()"
   ]
  },
  {
   "cell_type": "code",
   "execution_count": 36,
   "metadata": {},
   "outputs": [],
   "source": [
    "total_df = pd.concat([df, df_online], axis='rows')"
   ]
  },
  {
   "cell_type": "code",
   "execution_count": 37,
   "metadata": {},
   "outputs": [
    {
     "data": {
      "text/plain": [
       "업종\n",
       "편의점     667\n",
       "백화점     664\n",
       "슈퍼마켓    663\n",
       "할인점     654\n",
       "온라인     651\n",
       "Name: count, dtype: int64"
      ]
     },
     "execution_count": 37,
     "metadata": {},
     "output_type": "execute_result"
    }
   ],
   "source": [
    "total_df['업종'].value_counts()"
   ]
  },
  {
   "cell_type": "code",
   "execution_count": null,
   "metadata": {},
   "outputs": [],
   "source": []
  }
 ],
 "metadata": {
  "kernelspec": {
   "display_name": "Python 3",
   "language": "python",
   "name": "python3"
  },
  "language_info": {
   "codemirror_mode": {
    "name": "ipython",
    "version": 3
   },
   "file_extension": ".py",
   "mimetype": "text/x-python",
   "name": "python",
   "nbconvert_exporter": "python",
   "pygments_lexer": "ipython3",
   "version": "3.11.4"
  },
  "orig_nbformat": 4
 },
 "nbformat": 4,
 "nbformat_minor": 2
}
