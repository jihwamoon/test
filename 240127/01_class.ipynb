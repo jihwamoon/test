{
 "cells": [
  {
   "cell_type": "markdown",
   "metadata": {},
   "source": [
    "### class 선언 \n",
    "- class 키워드를 이용하여 클래스 선언 \n",
    "- class 이름은 일반적으로 첫글자는 대문자로 표기 \n",
    "\n",
    "### class 생성 \n",
    "- 선언이 된 class를 변수를 이용하여 class를 저장 \n",
    "\n",
    "### class 안에 존재하는 변수, 함수를 호출 \n",
    "- class 내부에 저장되어 있는 변수, 함수를 호출 \n",
    "\n"
   ]
  },
  {
   "cell_type": "code",
   "execution_count": 17,
   "metadata": {},
   "outputs": [],
   "source": [
    "# class 선언 \n",
    "class Class_1 : \n",
    "    # 특수 함수 (생성자 함수) : calss가 생성이 될때 자동적으로 한번만 실행 \n",
    "    # 함수명은 '__init__' 클래스 안에서 객체(self) 변수를 생성할 때 사용 \n",
    "    def __init__(self, input_x, input_y) : \n",
    "        #self 변수를 생성 \n",
    "        self.x = input_x \n",
    "        self.y = input_y "
   ]
  },
  {
   "cell_type": "code",
   "execution_count": 21,
   "metadata": {},
   "outputs": [],
   "source": [
    "# 클래스 생성 \n",
    "a_class = Class_1(10,3)"
   ]
  },
  {
   "cell_type": "code",
   "execution_count": 22,
   "metadata": {},
   "outputs": [
    {
     "name": "stdout",
     "output_type": "stream",
     "text": [
      "<__main__.Class_1 object at 0x00000251F5AC8A70>\n"
     ]
    }
   ],
   "source": [
    "print(a_class)"
   ]
  },
  {
   "cell_type": "code",
   "execution_count": 23,
   "metadata": {},
   "outputs": [
    {
     "name": "stdout",
     "output_type": "stream",
     "text": [
      "10\n",
      "3\n"
     ]
    }
   ],
   "source": [
    "#class 내부에 있는 변수를 호출 \n",
    "print(a_class.x)\n",
    "print(a_class.y)"
   ]
  },
  {
   "cell_type": "code",
   "execution_count": 24,
   "metadata": {},
   "outputs": [],
   "source": [
    "b_class = Class_1(20,1)"
   ]
  },
  {
   "cell_type": "code",
   "execution_count": 37,
   "metadata": {},
   "outputs": [],
   "source": [
    "# class 변수가 존재하는 Class 선언 \n",
    "class Class_2 : \n",
    "    #class 변수를 생성 \n",
    "    user_list = [] \n",
    "    # 생성자 함수를 생성 \n",
    "    def __init__(self,input_name,input_age) : \n",
    "        self.name = input_name\n",
    "        self.age = input_age \n",
    "        #클래스 변수에 name을 추가 \n",
    "        self.user_list.append(input_name)"
   ]
  },
  {
   "cell_type": "code",
   "execution_count": 38,
   "metadata": {},
   "outputs": [],
   "source": [
    "user_1 = Class_2('test', 20)\n",
    "user_2 = Class_2('test2', 30)"
   ]
  },
  {
   "cell_type": "code",
   "execution_count": 39,
   "metadata": {},
   "outputs": [
    {
     "name": "stdout",
     "output_type": "stream",
     "text": [
      "test\n",
      "test2\n"
     ]
    }
   ],
   "source": [
    "print(user_1.name)\n",
    "print(user_2.name)\n"
   ]
  },
  {
   "cell_type": "code",
   "execution_count": 40,
   "metadata": {},
   "outputs": [
    {
     "name": "stdout",
     "output_type": "stream",
     "text": [
      "['test', 'test2']\n",
      "['test', 'test2']\n"
     ]
    }
   ],
   "source": [
    "print(user_1.user_list)\n",
    "print(user_2.user_list)"
   ]
  },
  {
   "cell_type": "code",
   "execution_count": 42,
   "metadata": {},
   "outputs": [],
   "source": [
    "user_3 = Class_2('test3',40)"
   ]
  },
  {
   "cell_type": "code",
   "execution_count": 43,
   "metadata": {},
   "outputs": [
    {
     "name": "stdout",
     "output_type": "stream",
     "text": [
      "['test', 'test2', 'test3']\n"
     ]
    }
   ],
   "source": [
    "print(user_1.user_list)"
   ]
  },
  {
   "cell_type": "code",
   "execution_count": 44,
   "metadata": {},
   "outputs": [],
   "source": [
    "#class 내부에 함수가 존재하는 class 선언 \n",
    "class Class_3: \n",
    "    def __init__(self,input_x,input_y): \n",
    "        self.x = input_x \n",
    "        self.y = input_y \n",
    "\n",
    "    def add(self) : \n",
    "        result = self.x + self.y \n",
    "        return result \n",
    "    \n",
    "    def sub(self) : \n",
    "        result = self.x - self.y \n",
    "        return result "
   ]
  },
  {
   "cell_type": "code",
   "execution_count": 45,
   "metadata": {},
   "outputs": [],
   "source": [
    "c_class = Class_3(10,3)\n",
    "d_class = Class_3(20,7)\n"
   ]
  },
  {
   "cell_type": "code",
   "execution_count": 46,
   "metadata": {},
   "outputs": [
    {
     "name": "stdout",
     "output_type": "stream",
     "text": [
      "13\n",
      "27\n"
     ]
    }
   ],
   "source": [
    "print(c_class.add())\n",
    "print(d_class.add())\n"
   ]
  },
  {
   "cell_type": "code",
   "execution_count": 47,
   "metadata": {},
   "outputs": [
    {
     "name": "stdout",
     "output_type": "stream",
     "text": [
      "7\n",
      "13\n"
     ]
    }
   ],
   "source": [
    "print(c_class.sub())\n",
    "print(d_class.sub())"
   ]
  },
  {
   "cell_type": "code",
   "execution_count": 48,
   "metadata": {},
   "outputs": [],
   "source": [
    "# 상속 "
   ]
  },
  {
   "cell_type": "markdown",
   "metadata": {},
   "source": [
    "### 상속 \n",
    "1. User class 선언 \n",
    "    1. 생성자 함수 유저의 이름, 성별을 매개변수로 받아서 class 안에 self 변수에 저장 \n",
    "    2. info() 함수를 생성하여 유저의 정보를 출력하는 함수 \n",
    "    "
   ]
  },
  {
   "cell_type": "code",
   "execution_count": 60,
   "metadata": {},
   "outputs": [],
   "source": [
    "class User : \n",
    "    # 생성자 함수 \n",
    "    def __init__(self,input_name,input_age,input_gender) : \n",
    "        self.name = input_name \n",
    "        self.age = input_age \n",
    "        self.gender = input_gender \n",
    "    #info() 함수 생성 \n",
    "    def info(self) : \n",
    "        result = f\"이름은 {self.name}이고 나이는 {self.age}이며 성별은 {self.gender}입니다.\"\n",
    "        return result "
   ]
  },
  {
   "cell_type": "code",
   "execution_count": 61,
   "metadata": {},
   "outputs": [],
   "source": [
    "user1 = User('kim', 20, '남')\n"
   ]
  },
  {
   "cell_type": "code",
   "execution_count": 62,
   "metadata": {},
   "outputs": [
    {
     "name": "stdout",
     "output_type": "stream",
     "text": [
      "이름은 kim이고 나이는 20이며 성별은 남입니다.\n"
     ]
    }
   ],
   "source": [
    "print(user1.info())"
   ]
  },
  {
   "cell_type": "code",
   "execution_count": 63,
   "metadata": {},
   "outputs": [],
   "source": [
    "user2 = User('park' , 30, '여')"
   ]
  },
  {
   "cell_type": "code",
   "execution_count": 64,
   "metadata": {},
   "outputs": [
    {
     "name": "stdout",
     "output_type": "stream",
     "text": [
      "이름은 park이고 나이는 30이며 성별은 여입니다.\n"
     ]
    }
   ],
   "source": [
    "print(user2.info())"
   ]
  },
  {
   "cell_type": "markdown",
   "metadata": {},
   "source": [
    "- wallet class 선언 \n",
    "    1. User class 의 기능을 상속 \n",
    "    2. 생성자 함수에서는 User class에 있는 생성자함수와 지갑의 정보(잔액) , 구매한 물건 리스트 생성 \n",
    "    3. work()함수 생성 : 일의 타입에 따라 지갑의 잔액이 증가하는 함수 \n",
    "    4. buy()함수 생성 : 물품의 종류에 따라 지갑의 잔액이 감소하는 함수 "
   ]
  },
  {
   "cell_type": "code",
   "execution_count": 138,
   "metadata": {},
   "outputs": [],
   "source": [
    "class Wallet(User) : \n",
    "    # ()상속받을 내용 \n",
    "    # 생성자 함수 \n",
    "    def __init__(self, input_name, input_age, input_gender , input_balance = 0): \n",
    "        self.balance = input_balance \n",
    "        # 부모 클래스 안에 생성자 함수 호출 \n",
    "        # 부모 클래스 - > super()\n",
    "        super().__init__(input_name,input_age,input_gender) \n",
    "        self.goods = [] \n",
    "\n",
    "    # work() 함수 생성 : 일의 타입에 따라 지갑의 잔액이 증가하는 함수 \n",
    "\n",
    "    def work(self, input_type) : \n",
    "        # 일의 타입에 따라 잔액의 증가량을 표시 \n",
    "        if input_type == 'serve' : \n",
    "            self.balance += 3000000\n",
    "        elif input_type == 'cafe' : \n",
    "            self.balance += 2500000\n",
    "        elif input_type == 'convi' : \n",
    "            self.balance += 2000000\n",
    "        else : \n",
    "            return f\"일의 타입이 맞지 않습니다.\"\n",
    "        result = f\"{input_type}의 일을 하였습니다. 현재 지갑의 잔액은 {self.balance}입니다. \"\n",
    "        return result \n",
    "\n",
    "    # buy() 함수 생성 : 물품의 타입에 따라 지갑의 잔액이 감소하는 함수 \n",
    "    # 물품의 가격보다 지갑이 잔액이 크거나 같은 경우에만 물품을 구매 \n",
    "\n",
    "    def buy(self,goods_type) : \n",
    "        # 컴퓨터 : 천만원 \n",
    "        if goods_type == 'computer' : \n",
    "            # 구매를 할수 있는 조건 : 현재의 잔액보다 물품의 가격이 작거나 같은 경우 \n",
    "            if self.balance >= 1000000: \n",
    "                # 구매가능 \n",
    "                self.balance == 1000000 \n",
    "            else : \n",
    "                # 구매 불가 \n",
    "                return \"잔액이 부족합니다.\"\n",
    "        elif goods_type == 'mobile' : \n",
    "            if self.balance >= 1500000 : \n",
    "                self.balance == 1500000 \n",
    "            else : \n",
    "                return \"잔액이 부족합니다.\"\n",
    "        else : \n",
    "            return \"물품의 정보가 존재하지 않습니다.\"\n",
    "        return f\"{goods_type}물건을 구매하였습니다. 현재 잔액은 {self.balance}입니다.\"\n",
    "\n",
    "    def buy2(self, goods_type) : \n",
    "        # 구매하려면 물품의 가격을 변수에 대입 \n",
    "        if goods_type == 'computer':\n",
    "            cost = 1000000\n",
    "        elif goods_type == 'moible' : \n",
    "            cost = 1500000\n",
    "        else : \n",
    "            result = \"물품의 정보가 존재하지 않습니다.\"\n",
    "\n",
    "        # cost가 존재하고 지갑의 잔액이 cost보다 크거나 같은 경우 \n",
    "        if (cost) & self.balance >= cost : \n",
    "            self.balance -= cost \n",
    "            # 구매한 물건을 물품 목록에 추가 \n",
    "            self.goods.append(goods_type)\n",
    "            result = f\"{goods_type}물건을 구매하였습니다. 현재 잔액은 {self.balance}입니다.\" \n",
    "        else : \n",
    "            result = \"잔액이 부족합니다.\"\n",
    "        return result \n",
    "\n",
    "    # 오버라이드 : 기존의 함수명에 다른 행동을 덮어씌우는 과정 \n",
    "    # 기존의 클래스에서의 함수의 동작은 그대로 유지 \n",
    "    # 해당 클래스에서만 동작을 다르게 지정 \n",
    "    def info(self) : \n",
    "        result = f\"지갑의 소유자는 {self.name}이고 현재 잔액은 {self.balance}이다.\"\n",
    "        return result \n"
   ]
  },
  {
   "cell_type": "code",
   "execution_count": 139,
   "metadata": {},
   "outputs": [],
   "source": [
    "wallet1 = Wallet('kim', 20, '남')\n",
    "wallet2 = Wallet('park', 30, '여', 1000000)"
   ]
  },
  {
   "cell_type": "code",
   "execution_count": 140,
   "metadata": {},
   "outputs": [
    {
     "name": "stdout",
     "output_type": "stream",
     "text": [
      "지갑의 소유자는 kim이고 현재 잔액은 0이다.\n"
     ]
    }
   ],
   "source": [
    "print(wallet1.info())"
   ]
  },
  {
   "cell_type": "code",
   "execution_count": 146,
   "metadata": {},
   "outputs": [],
   "source": [
    "new_user = User('Lee',10,'여')"
   ]
  },
  {
   "cell_type": "code",
   "execution_count": 147,
   "metadata": {},
   "outputs": [
    {
     "name": "stdout",
     "output_type": "stream",
     "text": [
      "이름은 Lee이고 나이는 10이며 성별은 여입니다.\n"
     ]
    }
   ],
   "source": [
    "print(new_user.info())"
   ]
  },
  {
   "cell_type": "code",
   "execution_count": 141,
   "metadata": {},
   "outputs": [
    {
     "data": {
      "text/plain": [
       "'serve의 일을 하였습니다. 현재 지갑의 잔액은 3000000입니다. '"
      ]
     },
     "execution_count": 141,
     "metadata": {},
     "output_type": "execute_result"
    }
   ],
   "source": [
    "wallet1.work('serve')"
   ]
  },
  {
   "cell_type": "code",
   "execution_count": 142,
   "metadata": {},
   "outputs": [
    {
     "data": {
      "text/plain": [
       "'cafe의 일을 하였습니다. 현재 지갑의 잔액은 3500000입니다. '"
      ]
     },
     "execution_count": 142,
     "metadata": {},
     "output_type": "execute_result"
    }
   ],
   "source": [
    "wallet2.work('cafe')"
   ]
  },
  {
   "cell_type": "code",
   "execution_count": 143,
   "metadata": {},
   "outputs": [
    {
     "data": {
      "text/plain": [
       "'computer물건을 구매하였습니다. 현재 잔액은 3000000입니다.'"
      ]
     },
     "execution_count": 143,
     "metadata": {},
     "output_type": "execute_result"
    }
   ],
   "source": [
    "wallet1.buy('computer')"
   ]
  },
  {
   "cell_type": "code",
   "execution_count": 144,
   "metadata": {},
   "outputs": [
    {
     "data": {
      "text/plain": [
       "'mobile물건을 구매하였습니다. 현재 잔액은 3000000입니다.'"
      ]
     },
     "execution_count": 144,
     "metadata": {},
     "output_type": "execute_result"
    }
   ],
   "source": [
    "wallet1.buy('mobile')"
   ]
  },
  {
   "cell_type": "code",
   "execution_count": 145,
   "metadata": {},
   "outputs": [
    {
     "data": {
      "text/plain": [
       "'computer물건을 구매하였습니다. 현재 잔액은 3500000입니다.'"
      ]
     },
     "execution_count": 145,
     "metadata": {},
     "output_type": "execute_result"
    }
   ],
   "source": [
    "wallet2.buy('computer')"
   ]
  }
 ],
 "metadata": {
  "kernelspec": {
   "display_name": "Python 3",
   "language": "python",
   "name": "python3"
  },
  "language_info": {
   "codemirror_mode": {
    "name": "ipython",
    "version": 3
   },
   "file_extension": ".py",
   "mimetype": "text/x-python",
   "name": "python",
   "nbconvert_exporter": "python",
   "pygments_lexer": "ipython3",
   "version": "3.12.1"
  }
 },
 "nbformat": 4,
 "nbformat_minor": 2
}
