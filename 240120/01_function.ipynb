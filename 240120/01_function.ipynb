{
 "cells": [
  {
   "cell_type": "code",
   "execution_count": 2,
   "metadata": {},
   "outputs": [],
   "source": [
    "# 함수 생성 \n",
    "# 매개변수 2개 생성 \n",
    "# 매개변수 사이의 값들의 누적합을 출력하는 함수 \n",
    "\n",
    "def func_7(x, y): \n",
    "    # 합계 초기값은 0으로 지정 \n",
    "    result = 0 \n",
    "    # x보다 y가 큰 경우(ex.x가 1이고 y가 10 -> 1부터 10까지의 누적합) \n",
    "    if x < y : \n",
    "        for i in range(x, y+1, 1) :\n",
    "            result += i \n",
    "\n",
    "    # x보다 y가 작거나 같은경우\n",
    "    else : \n",
    "        for i in range(y, x+1, 1) : \n",
    "            result += i \n",
    "    return result  "
   ]
  },
  {
   "cell_type": "code",
   "execution_count": 3,
   "metadata": {},
   "outputs": [
    {
     "name": "stdout",
     "output_type": "stream",
     "text": [
      "55\n"
     ]
    }
   ],
   "source": [
    "print(func_7(1,10))"
   ]
  },
  {
   "cell_type": "code",
   "execution_count": 4,
   "metadata": {},
   "outputs": [],
   "source": [
    "def func_8(x, y) : \n",
    "    result = 0 \n",
    "\n",
    "    # 시작값이 x와 y중 작은값 \n",
    "    # 종료값은 x와 y중 큰 값에 + 1 \n",
    "    # 숫자 데이터들 중 가장 작은 데이터를 출력하는 함수 : min() \n",
    "    # 숫자 데이터들 중 가장 큰 데이터를 출력하는 함수 : max()\n",
    "    for i in range(min(x,y), max(x,y)+1, 1) : \n",
    "        result += i \n",
    "    return result \n"
   ]
  },
  {
   "cell_type": "code",
   "execution_count": 5,
   "metadata": {},
   "outputs": [
    {
     "name": "stdout",
     "output_type": "stream",
     "text": [
      "55\n",
      "55\n",
      "5\n"
     ]
    }
   ],
   "source": [
    "print(func_8(1,10))\n",
    "print(func_8(10,1))\n",
    "print(func_8(5,5))"
   ]
  },
  {
   "cell_type": "code",
   "execution_count": 6,
   "metadata": {},
   "outputs": [
    {
     "data": {
      "text/plain": [
       "1"
      ]
     },
     "execution_count": 6,
     "metadata": {},
     "output_type": "execute_result"
    }
   ],
   "source": [
    "min(3, 10, 1)"
   ]
  },
  {
   "cell_type": "code",
   "execution_count": 12,
   "metadata": {},
   "outputs": [],
   "source": [
    "# 인자의 개수가 가변인 경우의 함수를 생성 \n",
    "def func_9(*args): \n",
    "    # print(type(args))\n",
    "    # print(args)\n",
    "    # print(len(args))\n",
    "    # 인자값들 중에 첫번째 데이터를 변수에 대입 \n",
    "    result = args[0]\n",
    "    # 인자 값들 중 두번째 데이터부터 반복을 하는 반복문 생성 \n",
    "    for i in range(1, len(args), 1 ): \n",
    "        # result와 args[i] 항목을 비교 \n",
    "        if result > args[i] : \n",
    "            result = args[i] \n",
    "    return result \n",
    "\n",
    "\n",
    "# args = (50, 49, 55, 42)\n",
    "# result = 50 \n",
    "# for문에서 3번 반복 (시작값 1, 종료값4, 증가값 1 )\n",
    "# result > args[1] (50 > 49 ) ----> True \n",
    "# result = args[1] (result = 49)\n",
    "# result > args[2] (49 > 55) ---->False \n",
    "# 아무 행동도 하지 않는다. (result = 49)\n",
    "# result > args[3] (49 > 42) ----> True\n",
    "# result = args[3] (result = 42)\n",
    "# for문이 종료 \n",
    "# return result (result 42)  "
   ]
  },
  {
   "cell_type": "code",
   "execution_count": 13,
   "metadata": {},
   "outputs": [
    {
     "data": {
      "text/plain": [
       "1"
      ]
     },
     "execution_count": 13,
     "metadata": {},
     "output_type": "execute_result"
    }
   ],
   "source": [
    "func_9(1,2,3,4,5)\n",
    "func_9(2,4,6,8)\n",
    "func_9(1,2,3,4,5,6,7,8,9,10)\n"
   ]
  },
  {
   "cell_type": "code",
   "execution_count": 14,
   "metadata": {},
   "outputs": [
    {
     "name": "stdout",
     "output_type": "stream",
     "text": [
      "42\n"
     ]
    }
   ],
   "source": [
    "print(func_9(50,49,55,42))"
   ]
  },
  {
   "cell_type": "markdown",
   "metadata": {},
   "source": [
    "####예제 문제 \n",
    "1. 함수를 생성 -> 인자의 개수를 가변 \n",
    "2. 인자값의 평균 값을 출력을 하는 함수  \n",
    "    1. 모든 인자값을 더한다 \n",
    "    2. 더한 데이터를 인자의 개수로 나눠준다. \n",
    "    3. 나온 결과값을 되돌려 준다. "
   ]
  },
  {
   "cell_type": "code",
   "execution_count": 21,
   "metadata": {},
   "outputs": [],
   "source": [
    "def func_10(*args):\n",
    "    # 모든 인자값을 더한다.(합계라는 초기값 0) \n",
    "    result = 0 \n",
    "    # case1 \n",
    "    # for i in range(0,len(args),1): \n",
    "    #     # i가 의미하는 것은 ? -> 자료형 데이터의 위치 \n",
    "    #     result = result + args[i] \n",
    "\n",
    "    # # case2 \n",
    "    for i in args : \n",
    "        # i가 의미하는 것은 ? -> 자료형 데이터의 각 원소의 값 \n",
    "        result += i \n",
    "\n",
    "    # case3 \n",
    "    # result = sum(args)\n",
    "\n",
    "    # 합계에 인자의 개수만큼으로 나눠준다. \n",
    "    # result = result / len(args) \n",
    "    result /= len(args)\n",
    "\n",
    "    # 결과값을 되돌려준다. \n",
    "    return result \n"
   ]
  },
  {
   "cell_type": "code",
   "execution_count": 25,
   "metadata": {},
   "outputs": [
    {
     "name": "stdout",
     "output_type": "stream",
     "text": [
      "50.0\n"
     ]
    }
   ],
   "source": [
    "print(func_10(20,100,30))\n"
   ]
  },
  {
   "cell_type": "code",
   "execution_count": 26,
   "metadata": {},
   "outputs": [
    {
     "name": "stdout",
     "output_type": "stream",
     "text": [
      "30.0\n"
     ]
    }
   ],
   "source": [
    "print(func_10(10,20,30,40,50))"
   ]
  },
  {
   "cell_type": "code",
   "execution_count": 39,
   "metadata": {},
   "outputs": [],
   "source": [
    "_list = (22, 11, 33, 88)"
   ]
  },
  {
   "cell_type": "code",
   "execution_count": 40,
   "metadata": {},
   "outputs": [
    {
     "name": "stdout",
     "output_type": "stream",
     "text": [
      "22\n",
      "11\n",
      "33\n",
      "88\n"
     ]
    }
   ],
   "source": [
    "for i in range(len(_list)): \n",
    "    print(_list[i])"
   ]
  },
  {
   "cell_type": "code",
   "execution_count": 41,
   "metadata": {},
   "outputs": [
    {
     "name": "stdout",
     "output_type": "stream",
     "text": [
      "22\n",
      "11\n",
      "33\n",
      "88\n"
     ]
    }
   ],
   "source": [
    "for i in _list : \n",
    "    print(i)"
   ]
  },
  {
   "cell_type": "code",
   "execution_count": 45,
   "metadata": {},
   "outputs": [],
   "source": [
    "# 인자의 개수가 가변이 아닌 형태의 함수를 생성 \n",
    "# 매개변수에 자료형 데이터를 인자값으로 입력하는 경우 \n",
    "\n",
    "# 자료형 데이터를 입력받아 각 원소들의 제곱된 값을 리스트로 생성하여 되돌려준다. \n",
    "def func_11(x): \n",
    "    # x는 자료형 데이터가 들어온다. \n",
    "\n",
    "    # 결과값은 새로운 리스트를 생성하여 값들을 추가 \n",
    "    result = [] \n",
    "\n",
    "    # x의 원소들을 하나씩 추출하여 제곱한 뒤 result에 추가 \n",
    "    i = 0 \n",
    "    while i < len(x) : \n",
    "        data = x[i] ** 2 \n",
    "        result.append(data) \n",
    "        i += 1 \n",
    "\n",
    "    return result "
   ]
  },
  {
   "cell_type": "code",
   "execution_count": 47,
   "metadata": {},
   "outputs": [
    {
     "name": "stdout",
     "output_type": "stream",
     "text": [
      "[1, 4, 9, 16]\n"
     ]
    }
   ],
   "source": [
    "print(func_11([1,2,3,4]))"
   ]
  },
  {
   "cell_type": "code",
   "execution_count": 50,
   "metadata": {},
   "outputs": [],
   "source": [
    "# map함수 \n",
    "# map({호출할 함수명},{자료형 데이터})\n",
    "\n",
    "# 일반 함수를 생성 \n",
    "\n",
    "def change(x): \n",
    "    print(type(x)) \n",
    "    result = x ** 2 \n",
    "    return result "
   ]
  },
  {
   "cell_type": "code",
   "execution_count": 53,
   "metadata": {},
   "outputs": [
    {
     "name": "stdout",
     "output_type": "stream",
     "text": [
      "<class 'int'>\n",
      "<class 'int'>\n",
      "<class 'int'>\n",
      "<class 'int'>\n"
     ]
    },
    {
     "data": {
      "text/plain": [
       "[1, 4, 9, 16]"
      ]
     },
     "execution_count": 53,
     "metadata": {},
     "output_type": "execute_result"
    }
   ],
   "source": [
    "list(map(\n",
    "    change, [1, 2, 3, 4]\n",
    "))"
   ]
  },
  {
   "cell_type": "code",
   "execution_count": 54,
   "metadata": {},
   "outputs": [
    {
     "data": {
      "text/plain": [
       "[1, 4, 9, 16]"
      ]
     },
     "execution_count": 54,
     "metadata": {},
     "output_type": "execute_result"
    }
   ],
   "source": [
    "# lambda 함수 : 함수를 생성함과 동시에 호출 \n",
    "# lambda 매개변수명 : 실행될 코드 \n",
    "list(\n",
    "    map(\n",
    "        lambda x : x ** 2, \n",
    "        [1,2,3,4]\n",
    "    )\n",
    ")\n"
   ]
  },
  {
   "cell_type": "code",
   "execution_count": 56,
   "metadata": {},
   "outputs": [],
   "source": [
    "def change2(a):\n",
    "    result = a ** 2 \n",
    "    return result  "
   ]
  },
  {
   "cell_type": "code",
   "execution_count": 59,
   "metadata": {},
   "outputs": [
    {
     "name": "stdout",
     "output_type": "stream",
     "text": [
      "[1, 4, 9, 16]\n"
     ]
    }
   ],
   "source": [
    "_list= [1,2,3,4]\n",
    "\n",
    "rst = []\n",
    "\n",
    "for i in _list: \n",
    "    # print (i)\n",
    "    rst.append(change2(i))\n",
    "print(rst)"
   ]
  },
  {
   "cell_type": "code",
   "execution_count": 62,
   "metadata": {},
   "outputs": [
    {
     "name": "stdout",
     "output_type": "stream",
     "text": [
      "[1, 4, 9, 16]\n"
     ]
    }
   ],
   "source": [
    "_list = [1,2,3,4]\n",
    "\n",
    "rst = []\n",
    "\n",
    "for i in range(0,len(_list),1) : \n",
    "    data = change2(_list[i])\n",
    "    rst.append(data)\n",
    "\n",
    "print(rst)"
   ]
  },
  {
   "cell_type": "markdown",
   "metadata": {},
   "source": [
    "### 변수의 종류 \n",
    "1. 전역 변수 \n",
    "    - 어디서든 사용이 가능한 변수 \n",
    "    - 함수의 내부에서나 외부에서 어디서든 사용이 가능 \n",
    "2. 지역 변수 \n",
    "    - 해당하는 지역에서만 사용이 가능한 변수 \n",
    "    - 함수 내부, 클래스 내부에서 생성한 변수들을 지역 변수 \n",
    "    - 해당하는 지역에서 벗어나면 사용이 불가능한 휘발성 변수 \n",
    "3. 매개 변수 \n",
    "    - 함수를 생성할 때 함수 내부에서 사용하는 변수의 이름 \n",
    "    - 해당하는 함수에서만 사용이 가능 \n",
    "    - 함수 외부에서는 사용이 불가능 \n"
   ]
  },
  {
   "cell_type": "code",
   "execution_count": 63,
   "metadata": {},
   "outputs": [],
   "source": [
    "# 전역변수를 생성 \n",
    "\n",
    "test_a = \"Hello\""
   ]
  },
  {
   "cell_type": "code",
   "execution_count": 64,
   "metadata": {},
   "outputs": [
    {
     "name": "stdout",
     "output_type": "stream",
     "text": [
      "Hello\n"
     ]
    }
   ],
   "source": [
    "print(test_a)"
   ]
  },
  {
   "cell_type": "code",
   "execution_count": 66,
   "metadata": {},
   "outputs": [],
   "source": [
    "# 지역 변수 생성 \n",
    "def func_12() : \n",
    "    func_12_result = \"World\"\n",
    "    return test_a + func_12_result"
   ]
  },
  {
   "cell_type": "code",
   "execution_count": 68,
   "metadata": {},
   "outputs": [],
   "source": [
    "# 새로운 전역변수를 생성 \n",
    "test_b = func_12()"
   ]
  },
  {
   "cell_type": "code",
   "execution_count": 70,
   "metadata": {},
   "outputs": [
    {
     "name": "stdout",
     "output_type": "stream",
     "text": [
      "Hello\n",
      "HelloWorld\n"
     ]
    },
    {
     "ename": "NameError",
     "evalue": "name 'func_12_result' is not defined",
     "output_type": "error",
     "traceback": [
      "\u001b[1;31m---------------------------------------------------------------------------\u001b[0m",
      "\u001b[1;31mNameError\u001b[0m                                 Traceback (most recent call last)",
      "Cell \u001b[1;32mIn[70], line 3\u001b[0m\n\u001b[0;32m      1\u001b[0m \u001b[39mprint\u001b[39m(test_a)\n\u001b[0;32m      2\u001b[0m \u001b[39mprint\u001b[39m(test_b)\n\u001b[1;32m----> 3\u001b[0m \u001b[39mprint\u001b[39m(func_12_result)\n",
      "\u001b[1;31mNameError\u001b[0m: name 'func_12_result' is not defined"
     ]
    }
   ],
   "source": [
    "print(test_a)\n",
    "print(test_b)\n",
    "print(func_12_result)\n"
   ]
  },
  {
   "cell_type": "code",
   "execution_count": 71,
   "metadata": {},
   "outputs": [],
   "source": [
    "def func_13(input_a,input_b) : \n",
    "    result = input_a + input_b \n",
    "    return result "
   ]
  },
  {
   "cell_type": "code",
   "execution_count": 73,
   "metadata": {},
   "outputs": [
    {
     "name": "stdout",
     "output_type": "stream",
     "text": [
      "15\n"
     ]
    }
   ],
   "source": [
    "test_c = func_13(10,5)\n",
    "print(test_c)"
   ]
  },
  {
   "cell_type": "code",
   "execution_count": null,
   "metadata": {},
   "outputs": [],
   "source": [
    "# 매개변수는 외부에서 사용이 불가능 \n",
    "print(input_a)\n",
    "print(input_b)\n"
   ]
  }
 ],
 "metadata": {
  "kernelspec": {
   "display_name": "Python 3",
   "language": "python",
   "name": "python3"
  },
  "language_info": {
   "codemirror_mode": {
    "name": "ipython",
    "version": 3
   },
   "file_extension": ".py",
   "mimetype": "text/x-python",
   "name": "python",
   "nbconvert_exporter": "python",
   "pygments_lexer": "ipython3",
   "version": "3.12.1"
  }
 },
 "nbformat": 4,
 "nbformat_minor": 2
}
